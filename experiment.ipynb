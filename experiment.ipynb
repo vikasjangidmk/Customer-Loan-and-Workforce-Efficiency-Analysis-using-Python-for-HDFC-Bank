{
 "cells": [
  {
   "cell_type": "markdown",
   "id": "496fc0dd",
   "metadata": {},
   "source": [
    "## How HDFC Uses its Workforce Analytics to Improve Loan Operations?\n",
    "\n",
    "**About Dataset**\n",
    "\n",
    "Let’s Inspect our Customer Loan Data. This dataset offers an overview of loan agreements, showcasing essential details like customer information, loan specifics, and associated sales personnel. It reveals uniform loan conditions, such as interest rates and scheme codes, across various agreements. The involvement of multiple dealers and a consistent focus on the Hyderabad region highlight the localized nature of these financial transactions.\n",
    "\n",
    "Additionally, the dataset illustrates the organization's structured approach to loan processing and sales management, providing insights into its operational focus and market strategy.\n",
    "\n",
    "**Objective :** \n",
    "\n",
    "Enhance workforce efficiency and performance in the loan management department to optimize resource utilization and drive business growth. This objective aims to improve sales manager productivity, streamline loan processing, and recognize top performers. By implementing targeted training programs and performance evaluations, we seek to achieve measurable improvements in loan disbursal rates and customer satisfaction within the next quarter.\n",
    "\n",
    "**Goals :**\n",
    "\n",
    "Efficiently improve sales manager performance, streamline loan processing workflows, and recognize top performers to enhance customer satisfaction and drive business growth. These objectives aim to optimize resource utilization and achieve measurable improvements in loan disbursal rates and customer conversion within the next quarter."
   ]
  },
  {
   "cell_type": "markdown",
   "id": "3600bdbd",
   "metadata": {},
   "source": [
    "**Features**\n",
    "\n",
    "- **Customer:** Name of the customer.\n",
    "- **Agreement No:** Unique identifier for the loan agreement.\n",
    "- **App ID:** Application identification number.\n",
    "- **Loan Amount:** The total amount of loan approved.\n",
    "- **Tenure:** Duration of the loan in months.\n",
    "- **Disbursed Amount:** The amount of loan disbursed.\n",
    "- **Disbursed Variation:** Variation in the disbursed amount from the approved loan amount.\n",
    "- **Loan Date:** Date when the loan was disbursed.\n",
    "- **ROI:** Rate of interest for the loan.\n",
    "- **Dealer:** The dealer or agency through which the loan was processed.\n",
    "- **Scheme Code:** A code representing the loan scheme.\n",
    "- **Sales Rep:** Name of the sales representative.\n",
    "- **Sales Manager:** Name of the sales manager overseeing the transaction.\n",
    "- **City:** City where the customer is located.\n",
    "- **Region:** Region where the customer is located."
   ]
  },
  {
   "cell_type": "code",
   "execution_count": 2,
   "id": "773bacdd",
   "metadata": {},
   "outputs": [],
   "source": [
    "import pandas as pd\n",
    "import numpy as np\n",
    "import matplotlib.pyplot as plt\n",
    "import seaborn as sns\n",
    "import plotly.express as px\n",
    "import warnings\n",
    "warnings.filterwarnings(\"ignore\")\n",
    "%matplotlib inline"
   ]
  },
  {
   "cell_type": "code",
   "execution_count": 3,
   "id": "afedc438",
   "metadata": {},
   "outputs": [
    {
     "data": {
      "application/vnd.microsoft.datawrangler.viewer.v0+json": {
       "columns": [
        {
         "name": "index",
         "rawType": "int64",
         "type": "integer"
        },
        {
         "name": "customer",
         "rawType": "object",
         "type": "string"
        },
        {
         "name": "agreement_no",
         "rawType": "object",
         "type": "string"
        },
        {
         "name": "app_id",
         "rawType": "int64",
         "type": "integer"
        },
        {
         "name": "city",
         "rawType": "object",
         "type": "string"
        },
        {
         "name": "region",
         "rawType": "object",
         "type": "string"
        },
        {
         "name": "roi",
         "rawType": "float64",
         "type": "float"
        },
        {
         "name": "dealer",
         "rawType": "object",
         "type": "string"
        },
        {
         "name": "tenure",
         "rawType": "int64",
         "type": "integer"
        },
        {
         "name": "disb_amount",
         "rawType": "int64",
         "type": "integer"
        },
        {
         "name": "scheme_code",
         "rawType": "object",
         "type": "string"
        },
        {
         "name": "remarks",
         "rawType": "object",
         "type": "string"
        },
        {
         "name": "loan_amt",
         "rawType": "int64",
         "type": "integer"
        },
        {
         "name": "disb_var",
         "rawType": "int64",
         "type": "integer"
        },
        {
         "name": "sales_rep",
         "rawType": "object",
         "type": "string"
        },
        {
         "name": "sales_manager",
         "rawType": "object",
         "type": "string"
        },
        {
         "name": "dt_loan",
         "rawType": "object",
         "type": "string"
        }
       ],
       "ref": "158973ac-1bb5-4738-bd4b-2ae968d034cf",
       "rows": [
        [
         "0",
         "Chandranagraaj Vasamsetti",
         "TL011",
         "12198",
         "Hyderabad",
         "Telangana",
         "11.99",
         "Velocity Motors",
         "30",
         "74090",
         "41",
         "No Remark",
         "75000",
         "910",
         "Aarav Malhotra",
         "Aarav Sharma",
         "2023-08-23"
        ],
        [
         "1",
         "Swapnil Nana Lande",
         "TL012",
         "12204",
         "Hyderabad",
         "Telangana",
         "11.99",
         "Auto Avenue",
         "30",
         "61790",
         "41",
         "No Remark",
         "62700",
         "910",
         "Aarav Malhotra",
         "Aarav Sharma",
         "2020-10-27"
        ],
        [
         "2",
         "Syeda Meraj Unnisa",
         "TL013",
         "12356",
         "Hyderabad",
         "Telangana",
         "11.99",
         "Velocity Motors",
         "18",
         "73590",
         "41",
         "No Remark",
         "74500",
         "910",
         "Advika Chatterjee",
         "Aarav Sharma",
         "2021-02-27"
        ],
        [
         "3",
         "Kishor Gorakhnath Raibhan",
         "TL014",
         "12448",
         "Hyderabad",
         "Telangana",
         "11.99",
         "Prestige Auto Group",
         "24",
         "73090",
         "41",
         "No Remark",
         "74000",
         "910",
         "Arjun Iyer",
         "Aarav Sharma",
         "2022-09-25"
        ],
        [
         "4",
         "Balu Ramu Sawant",
         "TL015",
         "12449",
         "Hyderabad",
         "Telangana",
         "11.99",
         "Velocity Motors",
         "12",
         "84090",
         "41",
         "No Remark",
         "85000",
         "910",
         "Advika Chatterjee",
         "Aarav Sharma",
         "2022-02-15"
        ]
       ],
       "shape": {
        "columns": 16,
        "rows": 5
       }
      },
      "text/html": [
       "<div>\n",
       "<style scoped>\n",
       "    .dataframe tbody tr th:only-of-type {\n",
       "        vertical-align: middle;\n",
       "    }\n",
       "\n",
       "    .dataframe tbody tr th {\n",
       "        vertical-align: top;\n",
       "    }\n",
       "\n",
       "    .dataframe thead th {\n",
       "        text-align: right;\n",
       "    }\n",
       "</style>\n",
       "<table border=\"1\" class=\"dataframe\">\n",
       "  <thead>\n",
       "    <tr style=\"text-align: right;\">\n",
       "      <th></th>\n",
       "      <th>customer</th>\n",
       "      <th>agreement_no</th>\n",
       "      <th>app_id</th>\n",
       "      <th>city</th>\n",
       "      <th>region</th>\n",
       "      <th>roi</th>\n",
       "      <th>dealer</th>\n",
       "      <th>tenure</th>\n",
       "      <th>disb_amount</th>\n",
       "      <th>scheme_code</th>\n",
       "      <th>remarks</th>\n",
       "      <th>loan_amt</th>\n",
       "      <th>disb_var</th>\n",
       "      <th>sales_rep</th>\n",
       "      <th>sales_manager</th>\n",
       "      <th>dt_loan</th>\n",
       "    </tr>\n",
       "  </thead>\n",
       "  <tbody>\n",
       "    <tr>\n",
       "      <th>0</th>\n",
       "      <td>Chandranagraaj Vasamsetti</td>\n",
       "      <td>TL011</td>\n",
       "      <td>12198</td>\n",
       "      <td>Hyderabad</td>\n",
       "      <td>Telangana</td>\n",
       "      <td>11.99</td>\n",
       "      <td>Velocity Motors</td>\n",
       "      <td>30</td>\n",
       "      <td>74090</td>\n",
       "      <td>41</td>\n",
       "      <td>No Remark</td>\n",
       "      <td>75000</td>\n",
       "      <td>910</td>\n",
       "      <td>Aarav Malhotra</td>\n",
       "      <td>Aarav Sharma</td>\n",
       "      <td>2023-08-23</td>\n",
       "    </tr>\n",
       "    <tr>\n",
       "      <th>1</th>\n",
       "      <td>Swapnil Nana Lande</td>\n",
       "      <td>TL012</td>\n",
       "      <td>12204</td>\n",
       "      <td>Hyderabad</td>\n",
       "      <td>Telangana</td>\n",
       "      <td>11.99</td>\n",
       "      <td>Auto Avenue</td>\n",
       "      <td>30</td>\n",
       "      <td>61790</td>\n",
       "      <td>41</td>\n",
       "      <td>No Remark</td>\n",
       "      <td>62700</td>\n",
       "      <td>910</td>\n",
       "      <td>Aarav Malhotra</td>\n",
       "      <td>Aarav Sharma</td>\n",
       "      <td>2020-10-27</td>\n",
       "    </tr>\n",
       "    <tr>\n",
       "      <th>2</th>\n",
       "      <td>Syeda Meraj Unnisa</td>\n",
       "      <td>TL013</td>\n",
       "      <td>12356</td>\n",
       "      <td>Hyderabad</td>\n",
       "      <td>Telangana</td>\n",
       "      <td>11.99</td>\n",
       "      <td>Velocity Motors</td>\n",
       "      <td>18</td>\n",
       "      <td>73590</td>\n",
       "      <td>41</td>\n",
       "      <td>No Remark</td>\n",
       "      <td>74500</td>\n",
       "      <td>910</td>\n",
       "      <td>Advika Chatterjee</td>\n",
       "      <td>Aarav Sharma</td>\n",
       "      <td>2021-02-27</td>\n",
       "    </tr>\n",
       "    <tr>\n",
       "      <th>3</th>\n",
       "      <td>Kishor Gorakhnath Raibhan</td>\n",
       "      <td>TL014</td>\n",
       "      <td>12448</td>\n",
       "      <td>Hyderabad</td>\n",
       "      <td>Telangana</td>\n",
       "      <td>11.99</td>\n",
       "      <td>Prestige Auto Group</td>\n",
       "      <td>24</td>\n",
       "      <td>73090</td>\n",
       "      <td>41</td>\n",
       "      <td>No Remark</td>\n",
       "      <td>74000</td>\n",
       "      <td>910</td>\n",
       "      <td>Arjun Iyer</td>\n",
       "      <td>Aarav Sharma</td>\n",
       "      <td>2022-09-25</td>\n",
       "    </tr>\n",
       "    <tr>\n",
       "      <th>4</th>\n",
       "      <td>Balu Ramu Sawant</td>\n",
       "      <td>TL015</td>\n",
       "      <td>12449</td>\n",
       "      <td>Hyderabad</td>\n",
       "      <td>Telangana</td>\n",
       "      <td>11.99</td>\n",
       "      <td>Velocity Motors</td>\n",
       "      <td>12</td>\n",
       "      <td>84090</td>\n",
       "      <td>41</td>\n",
       "      <td>No Remark</td>\n",
       "      <td>85000</td>\n",
       "      <td>910</td>\n",
       "      <td>Advika Chatterjee</td>\n",
       "      <td>Aarav Sharma</td>\n",
       "      <td>2022-02-15</td>\n",
       "    </tr>\n",
       "  </tbody>\n",
       "</table>\n",
       "</div>"
      ],
      "text/plain": [
       "                    customer agreement_no  app_id       city     region  \\\n",
       "0  Chandranagraaj Vasamsetti        TL011   12198  Hyderabad  Telangana   \n",
       "1         Swapnil Nana Lande        TL012   12204  Hyderabad  Telangana   \n",
       "2         Syeda Meraj Unnisa        TL013   12356  Hyderabad  Telangana   \n",
       "3  Kishor Gorakhnath Raibhan        TL014   12448  Hyderabad  Telangana   \n",
       "4           Balu Ramu Sawant        TL015   12449  Hyderabad  Telangana   \n",
       "\n",
       "     roi               dealer  tenure  disb_amount scheme_code    remarks  \\\n",
       "0  11.99      Velocity Motors      30        74090          41  No Remark   \n",
       "1  11.99          Auto Avenue      30        61790          41  No Remark   \n",
       "2  11.99      Velocity Motors      18        73590          41  No Remark   \n",
       "3  11.99  Prestige Auto Group      24        73090          41  No Remark   \n",
       "4  11.99      Velocity Motors      12        84090          41  No Remark   \n",
       "\n",
       "   loan_amt  disb_var          sales_rep sales_manager     dt_loan  \n",
       "0     75000       910     Aarav Malhotra  Aarav Sharma  2023-08-23  \n",
       "1     62700       910     Aarav Malhotra  Aarav Sharma  2020-10-27  \n",
       "2     74500       910  Advika Chatterjee  Aarav Sharma  2021-02-27  \n",
       "3     74000       910         Arjun Iyer  Aarav Sharma  2022-09-25  \n",
       "4     85000       910  Advika Chatterjee  Aarav Sharma  2022-02-15  "
      ]
     },
     "execution_count": 3,
     "metadata": {},
     "output_type": "execute_result"
    }
   ],
   "source": [
    "df1 = pd.read_csv(\"customer_loan_data.csv.csv\")\n",
    "df1.head()"
   ]
  },
  {
   "cell_type": "code",
   "execution_count": 4,
   "id": "a532b219",
   "metadata": {},
   "outputs": [
    {
     "data": {
      "application/vnd.microsoft.datawrangler.viewer.v0+json": {
       "columns": [
        {
         "name": "index",
         "rawType": "int64",
         "type": "integer"
        },
        {
         "name": "customer",
         "rawType": "object",
         "type": "string"
        },
        {
         "name": "agreement_no",
         "rawType": "object",
         "type": "string"
        },
        {
         "name": "app_id",
         "rawType": "int64",
         "type": "integer"
        },
        {
         "name": "city",
         "rawType": "object",
         "type": "string"
        },
        {
         "name": "region",
         "rawType": "object",
         "type": "string"
        },
        {
         "name": "roi",
         "rawType": "float64",
         "type": "float"
        },
        {
         "name": "dealer",
         "rawType": "object",
         "type": "string"
        },
        {
         "name": "tenure",
         "rawType": "int64",
         "type": "integer"
        },
        {
         "name": "disb_amount",
         "rawType": "int64",
         "type": "integer"
        },
        {
         "name": "scheme_code",
         "rawType": "object",
         "type": "string"
        },
        {
         "name": "remarks",
         "rawType": "object",
         "type": "string"
        },
        {
         "name": "loan_amt",
         "rawType": "int64",
         "type": "integer"
        },
        {
         "name": "disb_var",
         "rawType": "int64",
         "type": "integer"
        },
        {
         "name": "sales_rep",
         "rawType": "object",
         "type": "string"
        },
        {
         "name": "sales_manager",
         "rawType": "object",
         "type": "string"
        },
        {
         "name": "dt_loan",
         "rawType": "object",
         "type": "string"
        }
       ],
       "ref": "2e14aad4-859b-4160-84fe-a38d355d8287",
       "rows": [
        [
         "16993",
         "Ashwita Krishna Devadiga",
         "TL0017000",
         "72143",
         "Mumbai",
         "Mumbai",
         "10.99",
         "rakesh s c",
         "24",
         "73490",
         "MH01CS03NP",
         "NP Scheme",
         "74700",
         "1210",
         "Gaurav Verma",
         "Priya Patel",
         "2020-04-18"
        ],
        [
         "16994",
         "Sanjaykumar Bhupatbhai Baraiya",
         "TL0017001",
         "72128",
         "Pune",
         "Rom",
         "11.99",
         "panda s c",
         "24",
         "79140",
         "MH12YH11WP",
         "NP Scheme",
         "80500",
         "1360",
         "Kiara Chatterjee",
         "Ayesha Khan",
         "2023-02-11"
        ],
        [
         "16995",
         "Shesharav Natthuji Nagdeve",
         "TL0017002",
         "69137",
         "Pune",
         "Rom",
         "11.99",
         "panda s c",
         "36",
         "79140",
         "MH12YH11WP",
         "NP Scheme",
         "80500",
         "1360",
         "Kiara Chatterjee",
         "Ayesha Khan",
         "2022-01-17"
        ],
        [
         "16996",
         "Khushal Tulshiram Bondre",
         "TL0017004",
         "67847",
         "Vadodara",
         "Gujarat",
         "9.99",
         "Prime Trust Loans",
         "24",
         "88170",
         "GJCWCCS05NP",
         "NP Scheme",
         "91500",
         "3330",
         "Riddhi Chaturvedi",
         "Prakash Reddy",
         "2021-08-24"
        ],
        [
         "16997",
         "Satish Jivrat Markande",
         "TL0017005",
         "66606",
         "Vadodara",
         "Gujarat",
         "9.99",
         "Prime Trust Loans",
         "24",
         "69500",
         "GJCWCCS05NP",
         "NP Scheme",
         "72500",
         "3000",
         "Riddhi Chaturvedi",
         "Prakash Reddy",
         "2020-08-12"
        ]
       ],
       "shape": {
        "columns": 16,
        "rows": 5
       }
      },
      "text/html": [
       "<div>\n",
       "<style scoped>\n",
       "    .dataframe tbody tr th:only-of-type {\n",
       "        vertical-align: middle;\n",
       "    }\n",
       "\n",
       "    .dataframe tbody tr th {\n",
       "        vertical-align: top;\n",
       "    }\n",
       "\n",
       "    .dataframe thead th {\n",
       "        text-align: right;\n",
       "    }\n",
       "</style>\n",
       "<table border=\"1\" class=\"dataframe\">\n",
       "  <thead>\n",
       "    <tr style=\"text-align: right;\">\n",
       "      <th></th>\n",
       "      <th>customer</th>\n",
       "      <th>agreement_no</th>\n",
       "      <th>app_id</th>\n",
       "      <th>city</th>\n",
       "      <th>region</th>\n",
       "      <th>roi</th>\n",
       "      <th>dealer</th>\n",
       "      <th>tenure</th>\n",
       "      <th>disb_amount</th>\n",
       "      <th>scheme_code</th>\n",
       "      <th>remarks</th>\n",
       "      <th>loan_amt</th>\n",
       "      <th>disb_var</th>\n",
       "      <th>sales_rep</th>\n",
       "      <th>sales_manager</th>\n",
       "      <th>dt_loan</th>\n",
       "    </tr>\n",
       "  </thead>\n",
       "  <tbody>\n",
       "    <tr>\n",
       "      <th>16993</th>\n",
       "      <td>Ashwita Krishna Devadiga</td>\n",
       "      <td>TL0017000</td>\n",
       "      <td>72143</td>\n",
       "      <td>Mumbai</td>\n",
       "      <td>Mumbai</td>\n",
       "      <td>10.99</td>\n",
       "      <td>rakesh s c</td>\n",
       "      <td>24</td>\n",
       "      <td>73490</td>\n",
       "      <td>MH01CS03NP</td>\n",
       "      <td>NP Scheme</td>\n",
       "      <td>74700</td>\n",
       "      <td>1210</td>\n",
       "      <td>Gaurav Verma</td>\n",
       "      <td>Priya Patel</td>\n",
       "      <td>2020-04-18</td>\n",
       "    </tr>\n",
       "    <tr>\n",
       "      <th>16994</th>\n",
       "      <td>Sanjaykumar Bhupatbhai Baraiya</td>\n",
       "      <td>TL0017001</td>\n",
       "      <td>72128</td>\n",
       "      <td>Pune</td>\n",
       "      <td>Rom</td>\n",
       "      <td>11.99</td>\n",
       "      <td>panda s c</td>\n",
       "      <td>24</td>\n",
       "      <td>79140</td>\n",
       "      <td>MH12YH11WP</td>\n",
       "      <td>NP Scheme</td>\n",
       "      <td>80500</td>\n",
       "      <td>1360</td>\n",
       "      <td>Kiara Chatterjee</td>\n",
       "      <td>Ayesha Khan</td>\n",
       "      <td>2023-02-11</td>\n",
       "    </tr>\n",
       "    <tr>\n",
       "      <th>16995</th>\n",
       "      <td>Shesharav Natthuji Nagdeve</td>\n",
       "      <td>TL0017002</td>\n",
       "      <td>69137</td>\n",
       "      <td>Pune</td>\n",
       "      <td>Rom</td>\n",
       "      <td>11.99</td>\n",
       "      <td>panda s c</td>\n",
       "      <td>36</td>\n",
       "      <td>79140</td>\n",
       "      <td>MH12YH11WP</td>\n",
       "      <td>NP Scheme</td>\n",
       "      <td>80500</td>\n",
       "      <td>1360</td>\n",
       "      <td>Kiara Chatterjee</td>\n",
       "      <td>Ayesha Khan</td>\n",
       "      <td>2022-01-17</td>\n",
       "    </tr>\n",
       "    <tr>\n",
       "      <th>16996</th>\n",
       "      <td>Khushal Tulshiram Bondre</td>\n",
       "      <td>TL0017004</td>\n",
       "      <td>67847</td>\n",
       "      <td>Vadodara</td>\n",
       "      <td>Gujarat</td>\n",
       "      <td>9.99</td>\n",
       "      <td>Prime Trust Loans</td>\n",
       "      <td>24</td>\n",
       "      <td>88170</td>\n",
       "      <td>GJCWCCS05NP</td>\n",
       "      <td>NP Scheme</td>\n",
       "      <td>91500</td>\n",
       "      <td>3330</td>\n",
       "      <td>Riddhi Chaturvedi</td>\n",
       "      <td>Prakash Reddy</td>\n",
       "      <td>2021-08-24</td>\n",
       "    </tr>\n",
       "    <tr>\n",
       "      <th>16997</th>\n",
       "      <td>Satish Jivrat Markande</td>\n",
       "      <td>TL0017005</td>\n",
       "      <td>66606</td>\n",
       "      <td>Vadodara</td>\n",
       "      <td>Gujarat</td>\n",
       "      <td>9.99</td>\n",
       "      <td>Prime Trust Loans</td>\n",
       "      <td>24</td>\n",
       "      <td>69500</td>\n",
       "      <td>GJCWCCS05NP</td>\n",
       "      <td>NP Scheme</td>\n",
       "      <td>72500</td>\n",
       "      <td>3000</td>\n",
       "      <td>Riddhi Chaturvedi</td>\n",
       "      <td>Prakash Reddy</td>\n",
       "      <td>2020-08-12</td>\n",
       "    </tr>\n",
       "  </tbody>\n",
       "</table>\n",
       "</div>"
      ],
      "text/plain": [
       "                             customer agreement_no  app_id      city   region  \\\n",
       "16993        Ashwita Krishna Devadiga    TL0017000   72143    Mumbai   Mumbai   \n",
       "16994  Sanjaykumar Bhupatbhai Baraiya    TL0017001   72128      Pune      Rom   \n",
       "16995      Shesharav Natthuji Nagdeve    TL0017002   69137      Pune      Rom   \n",
       "16996        Khushal Tulshiram Bondre    TL0017004   67847  Vadodara  Gujarat   \n",
       "16997          Satish Jivrat Markande    TL0017005   66606  Vadodara  Gujarat   \n",
       "\n",
       "         roi             dealer  tenure  disb_amount  scheme_code    remarks  \\\n",
       "16993  10.99         rakesh s c      24        73490   MH01CS03NP  NP Scheme   \n",
       "16994  11.99          panda s c      24        79140   MH12YH11WP  NP Scheme   \n",
       "16995  11.99          panda s c      36        79140   MH12YH11WP  NP Scheme   \n",
       "16996   9.99  Prime Trust Loans      24        88170  GJCWCCS05NP  NP Scheme   \n",
       "16997   9.99  Prime Trust Loans      24        69500  GJCWCCS05NP  NP Scheme   \n",
       "\n",
       "       loan_amt  disb_var          sales_rep  sales_manager     dt_loan  \n",
       "16993     74700      1210       Gaurav Verma    Priya Patel  2020-04-18  \n",
       "16994     80500      1360   Kiara Chatterjee    Ayesha Khan  2023-02-11  \n",
       "16995     80500      1360   Kiara Chatterjee    Ayesha Khan  2022-01-17  \n",
       "16996     91500      3330  Riddhi Chaturvedi  Prakash Reddy  2021-08-24  \n",
       "16997     72500      3000  Riddhi Chaturvedi  Prakash Reddy  2020-08-12  "
      ]
     },
     "execution_count": 4,
     "metadata": {},
     "output_type": "execute_result"
    }
   ],
   "source": [
    "df1.tail()"
   ]
  },
  {
   "cell_type": "code",
   "execution_count": 5,
   "id": "fb64512c",
   "metadata": {},
   "outputs": [
    {
     "data": {
      "text/plain": [
       "Index(['customer', 'agreement_no', 'app_id', 'city', 'region', 'roi', 'dealer',\n",
       "       'tenure', 'disb_amount', 'scheme_code', 'remarks', 'loan_amt',\n",
       "       'disb_var', 'sales_rep', 'sales_manager', 'dt_loan'],\n",
       "      dtype='object')"
      ]
     },
     "execution_count": 5,
     "metadata": {},
     "output_type": "execute_result"
    }
   ],
   "source": [
    "df1.columns"
   ]
  },
  {
   "cell_type": "code",
   "execution_count": 6,
   "id": "9fac7337",
   "metadata": {},
   "outputs": [
    {
     "data": {
      "text/plain": [
       "(16998, 16)"
      ]
     },
     "execution_count": 6,
     "metadata": {},
     "output_type": "execute_result"
    }
   ],
   "source": [
    "df1.shape"
   ]
  },
  {
   "cell_type": "code",
   "execution_count": 7,
   "id": "5ba4a72f",
   "metadata": {},
   "outputs": [
    {
     "data": {
      "application/vnd.microsoft.datawrangler.viewer.v0+json": {
       "columns": [
        {
         "name": "index",
         "rawType": "object",
         "type": "string"
        },
        {
         "name": "0",
         "rawType": "object",
         "type": "unknown"
        }
       ],
       "ref": "6842c79e-65d1-448f-8b27-30f4fbbbda66",
       "rows": [
        [
         "customer",
         "object"
        ],
        [
         "agreement_no",
         "object"
        ],
        [
         "app_id",
         "int64"
        ],
        [
         "city",
         "object"
        ],
        [
         "region",
         "object"
        ],
        [
         "roi",
         "float64"
        ],
        [
         "dealer",
         "object"
        ],
        [
         "tenure",
         "int64"
        ],
        [
         "disb_amount",
         "int64"
        ],
        [
         "scheme_code",
         "object"
        ],
        [
         "remarks",
         "object"
        ],
        [
         "loan_amt",
         "int64"
        ],
        [
         "disb_var",
         "int64"
        ],
        [
         "sales_rep",
         "object"
        ],
        [
         "sales_manager",
         "object"
        ],
        [
         "dt_loan",
         "object"
        ]
       ],
       "shape": {
        "columns": 1,
        "rows": 16
       }
      },
      "text/plain": [
       "customer          object\n",
       "agreement_no      object\n",
       "app_id             int64\n",
       "city              object\n",
       "region            object\n",
       "roi              float64\n",
       "dealer            object\n",
       "tenure             int64\n",
       "disb_amount        int64\n",
       "scheme_code       object\n",
       "remarks           object\n",
       "loan_amt           int64\n",
       "disb_var           int64\n",
       "sales_rep         object\n",
       "sales_manager     object\n",
       "dt_loan           object\n",
       "dtype: object"
      ]
     },
     "execution_count": 7,
     "metadata": {},
     "output_type": "execute_result"
    }
   ],
   "source": [
    "df1.dtypes"
   ]
  },
  {
   "cell_type": "code",
   "execution_count": 8,
   "id": "1e2411e2",
   "metadata": {},
   "outputs": [
    {
     "name": "stdout",
     "output_type": "stream",
     "text": [
      "<class 'pandas.core.frame.DataFrame'>\n",
      "RangeIndex: 16998 entries, 0 to 16997\n",
      "Data columns (total 16 columns):\n",
      " #   Column         Non-Null Count  Dtype  \n",
      "---  ------         --------------  -----  \n",
      " 0   customer       16998 non-null  object \n",
      " 1   agreement_no   16998 non-null  object \n",
      " 2   app_id         16998 non-null  int64  \n",
      " 3   city           16998 non-null  object \n",
      " 4   region         16998 non-null  object \n",
      " 5   roi            16998 non-null  float64\n",
      " 6   dealer         16998 non-null  object \n",
      " 7   tenure         16998 non-null  int64  \n",
      " 8   disb_amount    16998 non-null  int64  \n",
      " 9   scheme_code    15149 non-null  object \n",
      " 10  remarks        16998 non-null  object \n",
      " 11  loan_amt       16998 non-null  int64  \n",
      " 12  disb_var       16998 non-null  int64  \n",
      " 13  sales_rep      16998 non-null  object \n",
      " 14  sales_manager  16998 non-null  object \n",
      " 15  dt_loan        16998 non-null  object \n",
      "dtypes: float64(1), int64(5), object(10)\n",
      "memory usage: 2.1+ MB\n"
     ]
    }
   ],
   "source": [
    "df1.info()"
   ]
  },
  {
   "cell_type": "code",
   "execution_count": 9,
   "id": "85e691c1",
   "metadata": {},
   "outputs": [
    {
     "data": {
      "application/vnd.microsoft.datawrangler.viewer.v0+json": {
       "columns": [
        {
         "name": "index",
         "rawType": "int64",
         "type": "integer"
        },
        {
         "name": "customer",
         "rawType": "object",
         "type": "string"
        },
        {
         "name": "agreement_no",
         "rawType": "object",
         "type": "string"
        },
        {
         "name": "app_id",
         "rawType": "int64",
         "type": "integer"
        },
        {
         "name": "city",
         "rawType": "object",
         "type": "string"
        },
        {
         "name": "region",
         "rawType": "object",
         "type": "string"
        },
        {
         "name": "roi",
         "rawType": "float64",
         "type": "float"
        },
        {
         "name": "dealer",
         "rawType": "object",
         "type": "string"
        },
        {
         "name": "tenure",
         "rawType": "int64",
         "type": "integer"
        },
        {
         "name": "disb_amount",
         "rawType": "int64",
         "type": "integer"
        },
        {
         "name": "scheme_code",
         "rawType": "object",
         "type": "string"
        },
        {
         "name": "remarks",
         "rawType": "object",
         "type": "string"
        },
        {
         "name": "loan_amt",
         "rawType": "int64",
         "type": "integer"
        },
        {
         "name": "disb_var",
         "rawType": "int64",
         "type": "integer"
        },
        {
         "name": "sales_rep",
         "rawType": "object",
         "type": "string"
        },
        {
         "name": "sales_manager",
         "rawType": "object",
         "type": "string"
        },
        {
         "name": "dt_loan",
         "rawType": "object",
         "type": "string"
        }
       ],
       "ref": "175de398-8516-496d-a784-47b31412f680",
       "rows": [
        [
         "0",
         "Chandranagraaj Vasamsetti",
         "TL011",
         "12198",
         "Hyderabad",
         "Telangana",
         "11.99",
         "Velocity Motors",
         "30",
         "74090",
         "41",
         "No Remark",
         "75000",
         "910",
         "Aarav Malhotra",
         "Aarav Sharma",
         "2023-08-23"
        ],
        [
         "1",
         "Swapnil Nana Lande",
         "TL012",
         "12204",
         "Hyderabad",
         "Telangana",
         "11.99",
         "Auto Avenue",
         "30",
         "61790",
         "41",
         "No Remark",
         "62700",
         "910",
         "Aarav Malhotra",
         "Aarav Sharma",
         "2020-10-27"
        ],
        [
         "2",
         "Syeda Meraj Unnisa",
         "TL013",
         "12356",
         "Hyderabad",
         "Telangana",
         "11.99",
         "Velocity Motors",
         "18",
         "73590",
         "41",
         "No Remark",
         "74500",
         "910",
         "Advika Chatterjee",
         "Aarav Sharma",
         "2021-02-27"
        ],
        [
         "3",
         "Kishor Gorakhnath Raibhan",
         "TL014",
         "12448",
         "Hyderabad",
         "Telangana",
         "11.99",
         "Prestige Auto Group",
         "24",
         "73090",
         "41",
         "No Remark",
         "74000",
         "910",
         "Arjun Iyer",
         "Aarav Sharma",
         "2022-09-25"
        ],
        [
         "4",
         "Balu Ramu Sawant",
         "TL015",
         "12449",
         "Hyderabad",
         "Telangana",
         "11.99",
         "Velocity Motors",
         "12",
         "84090",
         "41",
         "No Remark",
         "85000",
         "910",
         "Advika Chatterjee",
         "Aarav Sharma",
         "2022-02-15"
        ]
       ],
       "shape": {
        "columns": 16,
        "rows": 5
       }
      },
      "text/html": [
       "<div>\n",
       "<style scoped>\n",
       "    .dataframe tbody tr th:only-of-type {\n",
       "        vertical-align: middle;\n",
       "    }\n",
       "\n",
       "    .dataframe tbody tr th {\n",
       "        vertical-align: top;\n",
       "    }\n",
       "\n",
       "    .dataframe thead th {\n",
       "        text-align: right;\n",
       "    }\n",
       "</style>\n",
       "<table border=\"1\" class=\"dataframe\">\n",
       "  <thead>\n",
       "    <tr style=\"text-align: right;\">\n",
       "      <th></th>\n",
       "      <th>customer</th>\n",
       "      <th>agreement_no</th>\n",
       "      <th>app_id</th>\n",
       "      <th>city</th>\n",
       "      <th>region</th>\n",
       "      <th>roi</th>\n",
       "      <th>dealer</th>\n",
       "      <th>tenure</th>\n",
       "      <th>disb_amount</th>\n",
       "      <th>scheme_code</th>\n",
       "      <th>remarks</th>\n",
       "      <th>loan_amt</th>\n",
       "      <th>disb_var</th>\n",
       "      <th>sales_rep</th>\n",
       "      <th>sales_manager</th>\n",
       "      <th>dt_loan</th>\n",
       "    </tr>\n",
       "  </thead>\n",
       "  <tbody>\n",
       "    <tr>\n",
       "      <th>0</th>\n",
       "      <td>Chandranagraaj Vasamsetti</td>\n",
       "      <td>TL011</td>\n",
       "      <td>12198</td>\n",
       "      <td>Hyderabad</td>\n",
       "      <td>Telangana</td>\n",
       "      <td>11.99</td>\n",
       "      <td>Velocity Motors</td>\n",
       "      <td>30</td>\n",
       "      <td>74090</td>\n",
       "      <td>41</td>\n",
       "      <td>No Remark</td>\n",
       "      <td>75000</td>\n",
       "      <td>910</td>\n",
       "      <td>Aarav Malhotra</td>\n",
       "      <td>Aarav Sharma</td>\n",
       "      <td>2023-08-23</td>\n",
       "    </tr>\n",
       "    <tr>\n",
       "      <th>1</th>\n",
       "      <td>Swapnil Nana Lande</td>\n",
       "      <td>TL012</td>\n",
       "      <td>12204</td>\n",
       "      <td>Hyderabad</td>\n",
       "      <td>Telangana</td>\n",
       "      <td>11.99</td>\n",
       "      <td>Auto Avenue</td>\n",
       "      <td>30</td>\n",
       "      <td>61790</td>\n",
       "      <td>41</td>\n",
       "      <td>No Remark</td>\n",
       "      <td>62700</td>\n",
       "      <td>910</td>\n",
       "      <td>Aarav Malhotra</td>\n",
       "      <td>Aarav Sharma</td>\n",
       "      <td>2020-10-27</td>\n",
       "    </tr>\n",
       "    <tr>\n",
       "      <th>2</th>\n",
       "      <td>Syeda Meraj Unnisa</td>\n",
       "      <td>TL013</td>\n",
       "      <td>12356</td>\n",
       "      <td>Hyderabad</td>\n",
       "      <td>Telangana</td>\n",
       "      <td>11.99</td>\n",
       "      <td>Velocity Motors</td>\n",
       "      <td>18</td>\n",
       "      <td>73590</td>\n",
       "      <td>41</td>\n",
       "      <td>No Remark</td>\n",
       "      <td>74500</td>\n",
       "      <td>910</td>\n",
       "      <td>Advika Chatterjee</td>\n",
       "      <td>Aarav Sharma</td>\n",
       "      <td>2021-02-27</td>\n",
       "    </tr>\n",
       "    <tr>\n",
       "      <th>3</th>\n",
       "      <td>Kishor Gorakhnath Raibhan</td>\n",
       "      <td>TL014</td>\n",
       "      <td>12448</td>\n",
       "      <td>Hyderabad</td>\n",
       "      <td>Telangana</td>\n",
       "      <td>11.99</td>\n",
       "      <td>Prestige Auto Group</td>\n",
       "      <td>24</td>\n",
       "      <td>73090</td>\n",
       "      <td>41</td>\n",
       "      <td>No Remark</td>\n",
       "      <td>74000</td>\n",
       "      <td>910</td>\n",
       "      <td>Arjun Iyer</td>\n",
       "      <td>Aarav Sharma</td>\n",
       "      <td>2022-09-25</td>\n",
       "    </tr>\n",
       "    <tr>\n",
       "      <th>4</th>\n",
       "      <td>Balu Ramu Sawant</td>\n",
       "      <td>TL015</td>\n",
       "      <td>12449</td>\n",
       "      <td>Hyderabad</td>\n",
       "      <td>Telangana</td>\n",
       "      <td>11.99</td>\n",
       "      <td>Velocity Motors</td>\n",
       "      <td>12</td>\n",
       "      <td>84090</td>\n",
       "      <td>41</td>\n",
       "      <td>No Remark</td>\n",
       "      <td>85000</td>\n",
       "      <td>910</td>\n",
       "      <td>Advika Chatterjee</td>\n",
       "      <td>Aarav Sharma</td>\n",
       "      <td>2022-02-15</td>\n",
       "    </tr>\n",
       "  </tbody>\n",
       "</table>\n",
       "</div>"
      ],
      "text/plain": [
       "                    customer agreement_no  app_id       city     region  \\\n",
       "0  Chandranagraaj Vasamsetti        TL011   12198  Hyderabad  Telangana   \n",
       "1         Swapnil Nana Lande        TL012   12204  Hyderabad  Telangana   \n",
       "2         Syeda Meraj Unnisa        TL013   12356  Hyderabad  Telangana   \n",
       "3  Kishor Gorakhnath Raibhan        TL014   12448  Hyderabad  Telangana   \n",
       "4           Balu Ramu Sawant        TL015   12449  Hyderabad  Telangana   \n",
       "\n",
       "     roi               dealer  tenure  disb_amount scheme_code    remarks  \\\n",
       "0  11.99      Velocity Motors      30        74090          41  No Remark   \n",
       "1  11.99          Auto Avenue      30        61790          41  No Remark   \n",
       "2  11.99      Velocity Motors      18        73590          41  No Remark   \n",
       "3  11.99  Prestige Auto Group      24        73090          41  No Remark   \n",
       "4  11.99      Velocity Motors      12        84090          41  No Remark   \n",
       "\n",
       "   loan_amt  disb_var          sales_rep sales_manager     dt_loan  \n",
       "0     75000       910     Aarav Malhotra  Aarav Sharma  2023-08-23  \n",
       "1     62700       910     Aarav Malhotra  Aarav Sharma  2020-10-27  \n",
       "2     74500       910  Advika Chatterjee  Aarav Sharma  2021-02-27  \n",
       "3     74000       910         Arjun Iyer  Aarav Sharma  2022-09-25  \n",
       "4     85000       910  Advika Chatterjee  Aarav Sharma  2022-02-15  "
      ]
     },
     "execution_count": 9,
     "metadata": {},
     "output_type": "execute_result"
    }
   ],
   "source": [
    "df1.head()"
   ]
  },
  {
   "cell_type": "code",
   "execution_count": 10,
   "id": "f9d6d19b",
   "metadata": {},
   "outputs": [],
   "source": [
    "df = df1.copy()"
   ]
  },
  {
   "cell_type": "markdown",
   "id": "bb5835a0",
   "metadata": {},
   "source": [
    "**Q1. Who are our top 10 sales managers in terms of loan amount and sales rep and dealers under them?**"
   ]
  },
  {
   "cell_type": "code",
   "execution_count": 11,
   "id": "629a4e8e",
   "metadata": {},
   "outputs": [
    {
     "data": {
      "application/vnd.microsoft.datawrangler.viewer.v0+json": {
       "columns": [
        {
         "name": "sales_manager",
         "rawType": "object",
         "type": "string"
        },
        {
         "name": "count",
         "rawType": "int64",
         "type": "integer"
        }
       ],
       "ref": "98b67704-cce8-40ee-a6d6-3c2f20c11249",
       "rows": [
        [
         "Rakesh Kumar",
         "10175"
        ],
        [
         "Vikram Singh",
         "623"
        ],
        [
         "Sameer Desai",
         "559"
        ],
        [
         "Aditya Shah",
         "478"
        ],
        [
         "Priya Patel",
         "461"
        ],
        [
         "Deepak Patel",
         "427"
        ],
        [
         "Rohit Reddy",
         "421"
        ],
        [
         "Rohan Mehta",
         "381"
        ],
        [
         "Kavita Reddy",
         "310"
        ],
        [
         "Ananya Gupta",
         "294"
        ],
        [
         "Ayesha Khan",
         "278"
        ],
        [
         "Pooja Malhotra",
         "274"
        ],
        [
         "Rajesh Tiwari",
         "268"
        ],
        [
         "Neha Gupta",
         "265"
        ],
        [
         "Aarav Sharma",
         "237"
        ],
        [
         "Anjali Desai",
         "167"
        ],
        [
         "Ajay Singh",
         "162"
        ],
        [
         "Arjun Kapoor",
         "162"
        ],
        [
         "Vivek Verma",
         "146"
        ],
        [
         "Divya Malhotra",
         "137"
        ],
        [
         "Shreya Gupta",
         "111"
        ],
        [
         "Maya Verma",
         "98"
        ],
        [
         "Tanvi Shah",
         "85"
        ],
        [
         "Prakash Reddy",
         "74"
        ],
        [
         "Nisha Verma",
         "72"
        ],
        [
         "Arvind Desai",
         "58"
        ],
        [
         "Sunita Sharma",
         "55"
        ],
        [
         "Swati Sharma",
         "52"
        ],
        [
         "Priyanka Sharma",
         "48"
        ],
        [
         "Poonam Shah",
         "46"
        ],
        [
         "Vikas Tiwari",
         "30"
        ],
        [
         "Karan Singh",
         "15"
        ],
        [
         "Pradeep Patel",
         "8"
        ],
        [
         "Riya Kapoor",
         "7"
        ],
        [
         "Sneha Patel",
         "7"
        ],
        [
         "Manoj Kumar",
         "2"
        ],
        [
         "Kritika Singh",
         "2"
        ],
        [
         "Natasha Singh",
         "1"
        ],
        [
         "Rahul Gupta",
         "1"
        ],
        [
         "Ankit Kapoor",
         "1"
        ]
       ],
       "shape": {
        "columns": 1,
        "rows": 40
       }
      },
      "text/plain": [
       "sales_manager\n",
       "Rakesh Kumar       10175\n",
       "Vikram Singh         623\n",
       "Sameer Desai         559\n",
       "Aditya Shah          478\n",
       "Priya Patel          461\n",
       "Deepak Patel         427\n",
       "Rohit Reddy          421\n",
       "Rohan Mehta          381\n",
       "Kavita Reddy         310\n",
       "Ananya Gupta         294\n",
       "Ayesha Khan          278\n",
       "Pooja Malhotra       274\n",
       "Rajesh Tiwari        268\n",
       "Neha Gupta           265\n",
       "Aarav Sharma         237\n",
       "Anjali Desai         167\n",
       "Ajay Singh           162\n",
       "Arjun Kapoor         162\n",
       "Vivek Verma          146\n",
       "Divya Malhotra       137\n",
       "Shreya Gupta         111\n",
       "Maya Verma            98\n",
       "Tanvi Shah            85\n",
       "Prakash Reddy         74\n",
       "Nisha Verma           72\n",
       "Arvind Desai          58\n",
       "Sunita Sharma         55\n",
       "Swati Sharma          52\n",
       "Priyanka Sharma       48\n",
       "Poonam Shah           46\n",
       "Vikas Tiwari          30\n",
       "Karan Singh           15\n",
       "Pradeep Patel          8\n",
       "Riya Kapoor            7\n",
       "Sneha Patel            7\n",
       "Manoj Kumar            2\n",
       "Kritika Singh          2\n",
       "Natasha Singh          1\n",
       "Rahul Gupta            1\n",
       "Ankit Kapoor           1\n",
       "Name: count, dtype: int64"
      ]
     },
     "execution_count": 11,
     "metadata": {},
     "output_type": "execute_result"
    }
   ],
   "source": [
    "df['sales_manager'].value_counts()"
   ]
  },
  {
   "cell_type": "code",
   "execution_count": 12,
   "id": "b7ea27b3",
   "metadata": {},
   "outputs": [
    {
     "data": {
      "application/vnd.microsoft.datawrangler.viewer.v0+json": {
       "columns": [
        {
         "name": "index",
         "rawType": "int64",
         "type": "integer"
        },
        {
         "name": "Sales Manager",
         "rawType": "object",
         "type": "string"
        },
        {
         "name": "Total Loan Amount",
         "rawType": "int64",
         "type": "integer"
        },
        {
         "name": "Sales Reps",
         "rawType": "object",
         "type": "unknown"
        },
        {
         "name": "Dealers",
         "rawType": "object",
         "type": "unknown"
        }
       ],
       "ref": "76481385-ed2b-4025-94ad-8a918511f2f5",
       "rows": [
        [
         "0",
         "Rakesh Kumar",
         "765699029",
         "['Trisha Rao', 'Shiv Sharma', 'Vanya Tiwari', 'Raj Aggarwal', 'Esha Reddy', 'Arjun Iyer', 'Dev Singh', 'Aarav Malhotra', 'Eshaan Banerjee', 'Nirav Mallick', 'Ishaan Verma', 'Advika Chatterjee', 'Rhea Dube', 'Chetan Qureshi', 'Yashika Das', 'Omkar Ekbote', 'Yashvi Jain', 'Ria Sharma', 'Shanaya Shah', 'Lavanya Singh', 'Kiara Kumar', 'Qasim Gupta', 'Gauri Sharma', 'Omkar Bhatia', 'Yash Das', 'Neil Choudhury', 'Krish Agarwal', 'Rishi Iyer', 'Samaira Khanna', 'Saanvi Gupta', 'Zara Khurana', 'Vedant Iyengar', 'Prisha Pillai', 'Nakul Verma', 'Hiral Patel', 'Lekha Varma', 'Sameer Kapoor', 'Aisha Singhania', 'Aryan Shah', 'Zara Chawla', 'Grishma Nair', 'Sara Singh', 'Shiv Mehra', 'Tanisha Dutta', 'Sia Menon', 'Aditi Sinha', 'Aryahi Deshpande', 'Yashika Jain', 'Shaan Nair', 'Aarav Lal', 'Neel Joshi', 'Lavanya Anand', 'Tanvi Reddy', 'Siya Bhatia', 'Vihaan Khanna', 'Utkarsh Agnihotri', 'Vansh Sharma', 'Hina Wagh', 'Nandini Dube', 'Ishika Malhotra', 'Vir Das', 'Jiya Singh', 'Parth Chandra', 'Eshaal Rajan', 'Prisha Thakur', 'Saanvi Reddy', 'Aadi Nair', 'Chirag Oberoi', 'Saanvi Choudhury', 'Reyansh Sharma', 'Adhira Banerjee', 'Jaideep Yadav', 'Anaya Mathur', 'Gopal Thakkar', 'Eshan Shah', 'Aditya Shah', 'Nandini Chauhan', 'Anika Choudhury', 'Rohan Fernandes', 'Falguni Reddy', 'Sakshi Hegde', 'Bhavika Iyer', 'Omkar Dube', 'Waqar Khan', 'Gaurav Verma', 'Mayank Chauhan', 'Naina Sharma', 'Eshaan Patel', 'Oviya Singhania', 'Ayaan Singh', 'Charvi Joshi', 'Hritik Nair', 'Aanya Nagar', 'Devika Mehra', 'Eesha Reddy', 'Yash Lamba', 'Ira Iyer', 'Lavanya Bhalla', 'Krish Sharma', 'Meher Patel', 'Nirvik Khatri', 'Jayesh Chatterjee', 'Pooja Ekbote', 'Pranav Bajaj', 'Urvi Gandhi', 'Navya Verma', 'Bhumi Patel', 'Riddhi Chaturvedi', 'Kunal Xalxo', 'Rishi Chawla', 'Farhan Saxena', 'Rudra Arora', 'Siya Agarwal', 'Advait Mathur', 'Saanvi Kumar', 'Ananya Kapoor', 'Meera Venkatesh', 'Saisha Ahuja', 'Samar Iyer', 'Ishan Rao', 'Samaira Reddy', 'Tarun Verma', 'Udit Tiwari', 'Yash Rawat', 'Samaira Khurana', 'Inaaya Rao', 'Kaira Thakur', 'Tanvi Shinde', 'Hiral Upadhyay', 'Tanmay Fernandes', 'Manya Patel', 'Karan Mehta', 'Kiara Mehra', 'Prisha Iyer', 'Bhavya Sharma', 'Hrishikesh Malhotra', 'Tarun Iyer', 'Divya Rajan', 'Ira Wagh', 'Shlok Garg', 'Gauri Reddy', 'Siya Nayar', 'Aahana Thakkar', 'Pankaj Kapoor', 'Rahul Desai', 'Vansh Hegde', 'Bhavya Narang', 'Trisha Kapoor', 'Trisha Iyer', 'Chirag Singh', 'Vivaan Malhotra', 'Tarun Hegde', 'Aditya Kapoor', 'Yashvi Singh', 'Sanya Seth', 'Qureshi Mehta', 'Karishma Anand', 'Aahana Bhatia', 'Aarush Lal', 'Radha Bajaj', 'Advaith Sharma', 'Anvi Gupta', 'Anaya Narang', 'Wahida Iyengar', 'Dhriti Kadam', 'Zain Mehta', 'Aadhira Mahajan', 'Pooja Fernandes', 'Arya Naidu', 'Vihaan Menon', 'Devansh Joshi', 'Mayank Bhalla', 'Ishaan Narang', 'Kabir Kapoor', 'Rudra Rawat', 'Om Mishra', 'Tarun Joshi', 'Aryan Reddy', 'Kiara Shetty', 'Vanya Hegde', 'Manasvi Chauhan', 'Falguni Mukhopadhyay', 'Nihal Malhotra', 'Devika Rao', 'Ishaan Desai', 'Pranav Sharma', 'Navya Zaveri', 'Jyoti Wani', 'Eshaal Saxena', 'Eeshani Limaye', 'Raghav Verma', 'Pranav Singh', 'Diya Menon', 'Amaira Chandra', 'Sakshi Gokhale', 'Manya Malhotra', 'Ritvik Patel', 'Roshni Nair', 'Saanvi Sharma', 'Samar Agarwal', 'Avni Patel', 'Urmila Iyer', 'Falak Gupta', 'Shreya Iyer', 'Laksh Gupta', 'Vihaan Kapoor', 'Aarav Chatterjee', 'Aanya Thakkar', 'Aisha Mehta', 'Arjun Sengupta', 'Gaurav Tiwari', 'Naman Singh', 'Veer Kapoor', 'Raghav Desai', 'Arnav Iyengar', 'Diya Mehra', 'Riddhima Bhatt', 'Ishan Das', 'Kavya Suri', 'Kabir Chatterjee', 'Bhavya Oberoi', 'Siya Singh', 'Nisha Agarwal', 'Zoya Khurana', 'Krish Desai', 'Divya Parekh', 'Uday Rana', 'Rahul Verma', 'Riya Reddy', 'Aarav Bhat', 'Rahul Dasgupta', 'Chetan Sharma', 'Ahaan Mathur', 'Sagar Ekbote', 'Vivaan Iyengar', 'Vansh Rana', 'Pranav Joshi', 'Ridhi Rao', 'Saisha Nair', 'Reyansh Patel']",
         "['Blue Ribbon Motors', 'Turbocharged Cars', 'City Drive Motors', 'Victory Drive Dealership', 'Alpha Auto', 'Freedom Auto', 'Dream Drive Dealership', 'Blue Ribbon Auto', 'Infinity Drive Group', 'Dream Drive Auto Group', 'Prime Drive Dealership', 'Royal Drive', 'Skyline Drive Auto', 'Express Drive Group', 'Starlight Drive Auto', 'Infinity Drive Auto', 'Prestige Drive Auto', 'Roadmaster Drive Group', 'Apex Drive Group', 'Liberty Drive Group', 'Swift Drive Group', 'Top Gear Drive Auto', 'Precision Drive Group', 'Diamond Drive Group', 'Roadrunner Drive Auto', 'Blue Ribbon Drive Auto', 'Speedy Drive Auto', 'Apex Drive Auto Group', 'Grand Prix Drive Auto', 'ProDrive', 'Liberty Drive', 'Infinity Drive Dealership', 'Velocity Drive Group', 'Prime Drive Auto', 'Elite Drive Auto Group', 'Royal Drive Auto', 'Skyline Drive Group', 'Prestige Drive Group', 'Roadmaster Drive Auto', 'Liberty Drive Auto Group', 'Swift Drive Auto', 'Top Gear Drive Group', 'Diamond Drive Auto Group', 'Roadrunner Drive Group', 'Blue Ribbon Drive Group', 'Supreme Drive Auto', 'Grand Prix Drive Group', 'Velocity Drive Auto', 'Platinum Drive Auto', 'Roadmaster Drive', 'Diamond Drive', 'Wheel Deal Solutions', 'omkar C e', 'Motor Advance Connect', 'saurabh C c', 'imran C n', 'FastTrack Cash Hub', 'Speed Pavement Mart', 'Car Ready Funding', 'Auto Equity Hub', 'panda C i', 'Prime Cash Credit', 'Drive Pavement Capital', 'amit h i', 'Drive Advance Credit', 'Velocity Cash Connect', 'Car Advance Solutions', 'Road Ready Mart', 'Velocity Trust Loans', 'Speed Equity Finance', 'Wheel Speed Capital', 'Wheel Quick Funding', 'Road Dream Capital', 'Drive Speed Solutions', 'Velocity Equity Finance', 'Road Quick Credit', 'Motor Quick Credit', 'FastTrack Advance Solutions', 'Auto Dream Lending', 'Motor Ready Hub', 'saurabh s n', 'Auto Cash Loans', 'Auto Quick Loans', 'salman s i', 'FastTrack Equity Lending', 'Car Equity Lending', 'kamla h n', 'Car Advance Funding', 'Road Ready Loans', 'Speed Speed Hub', 'Road Cash Solutions', 'kamla a a', 'panda s i', 'Car Quick Hub', 'salman h n', 'Car Deal Credit', 'salman a n', 'Motor Ready Connect', 'Motor Dream Credit', 'Car Deal Loans', 'Velocity Deal Credit', 'Motor Ready Credit', 'Velocity Pavement Connect', 'rakesh h c', 'Auto Cash Connect', 'panda C n', 'salman C i', 'FastTrack Cash Funding', 'Prime Advance Capital', 'Motor Advance Finance', 'Motor Dream Funding', 'Road Advance Finance', 'Wheel Quick Hub', 'Auto Ready Loans', 'salman C e', 'Auto Cash Solutions', 'Auto Advance Funding', 'shahrukh h F', 'salman h a', 'Car Equity Funding', 'Wheel Trust Loans', 'Velocity Trust Credit', 'Car Deal Connect', 'atish h F', 'Car Equity Solutions', 'Motor Dream Loans', 'Velocity Cash Loans', 'omkar s a', 'Drive Ready Loans', 'Drive Speed Loans', 'panda a c', 'atish h n', 'imran s n', 'Road Dream Funding', 'shahrukh a n', 'atish a c', 'Prime Cash Solutions', 'rakesh h i', 'panda h n', 'Road Speed Credit', 'Car Speed Funding', 'FastTrack Equity Finance', 'imran h i', 'Prime Speed Solutions', 'FastTrack Speed Funding', 'Velocity Pavement Mart', 'imran a a', 'kamla s e', 'Auto Advance Credit', 'Road Advance Mart', 'Drive Dream Hub', 'Velocity Equity Connect', 'Prime Quick Mart', 'Drive Advance Funding', 'Motor Dream Finance', 'Car Advance Hub', 'Prime Trust Mart', 'Drive Advance Hub', 'Prime Speed Lending', 'Road Advance Credit', 'amit h n', 'Auto Deal Capital', 'salman C F', 'atish s i', 'FastTrack Dream Connect', 'Prime Ready Connect', 'saurabh a a', 'FastTrack Dream Credit', 'Motor Cash Connect', 'Auto Quick Credit', 'kamla C F', 'Drive Deal Mart', 'rakesh a i', 'Motor Cash Credit', 'saurabh h F', 'Prime Equity Connect', 'Wheel Cash Solutions', 'Car Cash Finance', 'Drive Speed Capital', 'Drive Advance Lending', 'Speed Ready Finance', 'shahrukh C F', 'Car Equity Finance', 'Auto Cash Capital', 'saurabh h c', 'FastTrack Ready Finance', 'Drive Deal Lending', 'Auto Cash Credit', 'imran C a', 'Drive Pavement Hub', 'Road Deal Credit', 'Motor Trust Finance', 'Wheel Pavement Connect', 'Wheel Advance Mart', 'Car Trust Connect', 'Wheel Dream Capital', 'Car Trust Solutions', 'Car Speed Lending', 'Drive Trust Loans', 'Auto Quick Lending', 'shahrukh a c', 'salman C n', 'Velocity Pavement Hub', 'rakesh C i', 'FastTrack Pavement Mart', 'Drive Pavement Lending', 'Auto Ready Funding', 'omkar C i', 'saurabh s F', 'Auto Dream Solutions', 'Car Trust Hub', 'Car Quick Loans', 'Drive Equity Funding', 'Drive Dream Funding', 'FastTrack Cash Capital', 'Road Trust Hub', 'Wheel Pavement Loans', 'FastTrack Equity Mart', 'Prime Pavement Connect', 'Speed Deal Finance', 'Speed Trust Funding', 'Velocity Speed Finance', 'Road Advance Connect', 'Wheel Equity Finance', 'Drive Speed Finance', 'Motor Cash Loans', 'Prime Dream Capital', 'Velocity Quick Mart', 'Prime Advance Connect', 'Motor Equity Hub', 'Velocity Deal Lending', 'Velocity Pavement Funding', 'Road Quick Funding', 'Drive Equity Capital', 'Velocity Speed Funding', 'Prime Trust Lending', 'Velocity Advance Connect', 'Car Pavement Capital', 'Car Trust Mart', 'Road Cash Mart', 'Car Quick Solutions', 'Auto Trust Loans', 'Wheel Trust Hub', 'Velocity Speed Lending', 'Velocity Quick Solutions', 'FastTrack Dream Capital', 'FastTrack Pavement Funding', 'rakesh s c', 'Prime Trust Loans', 'Speed Dream Loans', 'rakesh C c', 'Drive Advance Mart', 'Auto Equity Solutions', 'Wheel Cash Funding', 'panda s a', 'Platinum Drive Group', 'Prime Pavement Capital', 'Drive Dream Finance', 'FastTrack Dream Funding', 'Supreme Drive Group', 'imran a F', 'saurabh a i', 'Car Pavement Lending', 'Starlight Drive Group', 'High Gear Drive Auto', 'Drive Pavement Funding', 'Speed Quick Hub', 'Speedy Drive Group', 'kamla s i', 'Auto Speed Finance', 'Wheel Trust Capital', 'Wheel Speed Finance', 'Motor Cash Mart', 'Auto Advance Capital', 'Motor Deal Hub', 'Road Dream Hub', 'kamla C a', 'Prime Cash Mart', 'atish C n', 'Motor Quick Finance', 'Auto Quick Connect', 'Wheel Quick Capital', 'FastTrack Speed Credit', 'FastTrack Trust Connect', 'Motor Equity Lending', 'FastTrack Trust Mart', 'Speed Equity Connect', 'Motor Quick Lending', 'Speed Dream Finance', 'FastTrack Advance Loans', 'Motor Trust Credit', 'Car Ready Finance', 'Speed Trust Connect', 'Velocity Pavement Lending', 'panda a e', 'Road Trust Credit', 'Auto Pavement Lending', 'imran a n', 'Speed Trust Capital', 'Prime Quick Hub', 'shahrukh h n', 'Speed Ready Hub', 'Wheel Equity Capital', 'Road Advance Loans', 'amit s F', 'Drive Equity Lending', 'salman s n', 'Car Cash Lending', 'Prime Pavement Mart', 'Wheel Dream Credit', 'shahrukh C e', 'Motor Speed Hub', 'Velocity Dream Mart', 'Speed Deal Credit', 'Wheel Trust Mart', 'FastTrack Trust Capital', 'Velocity Cash Credit', 'Drive Trust Connect', 'Car Speed Solutions', 'Drive Dream Loans', 'Prime Advance Solutions', 'Speed Advance Connect', 'salman s F', 'rakesh s n', 'Wheel Ready Funding', 'Car Cash Loans', 'Road Quick Capital', 'FastTrack Equity Connect', 'Drive Dream Mart', 'imran a c', 'Auto Trust Lending', 'salman h F', 'Wheel Advance Credit', 'Velocity Equity Mart', 'salman a c', 'Road Dream Connect', 'Wheel Advance Hub', 'rakesh C a', 'Speed Dream Lending', 'Motor Deal Credit', 'saurabh C i', 'Wheel Equity Funding', 'Velocity Trust Mart', 'Speed Quick Finance', 'panda h e', 'Road Speed Solutions', 'Wheel Quick Connect', 'FastTrack Ready Capital', 'Precision Wheels', 'Road Pavement Hub', 'Dream Wheels', 'Apex Motors Group', 'Velocity Motors', 'Dynamic Motors Group', 'Apex Drive', 'kamla C i', 'Car Pavement Loans', 'Ultimate Auto Group', 'Drive Ready Connect', 'Victory Automotive', 'Speedy Drive', 'Star Motors', 'Turbo Drive', 'Liberty Automotive', 'Royal Ride Dealership', 'Precision Drive Auto', 'Wheel Pavement Funding', 'Wheel Dream Connect', 'amit C n', 'Speed Pavement Finance', 'Wheel Pavement Mart', 'Apex Drive Auto', 'FastTrack Quick Capital', 'Auto Ready Finance', 'Redline Auto', 'Wheel Deal Connect', 'Alpha Motors', 'Motor Pavement Connect', 'Prime Wheels', 'Platinum Drive', 'Car Advance Mart', 'Velocity Equity Capital', 'Prime Ready Funding', 'Grand Drive Motors', 'Precision Auto Group', 'Supreme Drive', 'Redline Motors', 'Royal Auto Group', 'Precision Motors', 'Dynamic Drive Dealership', 'Cityscape Auto', 'ProDrive Wheels', 'Prestige Wheels', 'Prestige Auto', 'Platinum Auto Group', 'Express Auto Group', 'Supreme Auto Group', 'Victory Auto Group', 'Powerhouse Auto', 'Infinity Auto', 'High Gear Automotive', 'Speedy Auto', 'Drive Dream Credit', 'Dynamic Motors', 'Speedy Auto Group', 'Redline Auto Group', 'Top Gear Drive', 'Ultimate Auto', 'Velocity Advance Credit', 'Prime Drive', 'Prime Motors', 'Star Auto', 'Turbo Motors', 'Auto Avenue', 'Motor Speed Lending', 'Turbocharged Auto', 'Prime Pavement Lending', 'Victory Motors', 'Grand Drive', 'Precision Drive', 'Freedom Wheels', 'Star Motors Group', 'Diamond Auto Group', 'Starlight Motors', 'Swift Auto', 'Wheel Deal Funding', 'Liberty Motors Group', 'Drive Cash Finance', 'Prestige Auto Group', 'ProDrive Motors', 'FastTrack Pavement Credit', 'Cityscape Motors', 'Top Gear Cars', 'Blue Ribbon Drive', 'panda h i', 'Speed Quick Loans', 'Speed Quick Connect', 'Elite Wheels', 'Victory Drive Group', 'Grand Prix Auto', 'High Gear Drive', 'Roadrunner Drive', 'Starlight Auto', 'imran h c', 'FastTrack Ready Loans', 'Freedom Motors Group', 'rakesh C n', 'omkar s n', 'Turbo Drive Group', 'imran h n', 'Dynamic Auto', 'Ultimate Drive', 'panda a n', 'Turbocharged Motors', 'Liberty Auto', 'Swift Motors', 'Liberty Drive Dealership', 'Infinity Drive', 'Legend Drive', 'Legend Motors', 'Skyline Auto', 'Velocity Equity Hub', 'Drive Advance Finance', 'Road Cash Finance', 'Wheel Deal Finance', 'Liberty Drive Auto', 'Top Gear Auto', 'Swift Wheels', 'Express Auto', 'Wheel Ready Hub', 'Skyline Motors', 'Speedy Motors', 'Roadrunner Auto', 'Drive Equity Solutions', 'ProDrive Auto Group', 'Elite Drive Group', 'Drive Deal Capital', 'Drive Pavement Connect', 'Car Speed Finance', 'Drive Speed Connect', 'rakesh h n', 'FastTrack Advance Funding', 'Speed Equity Credit', 'Drive Quick Connect', 'Infinity Drive Auto Group', 'Prime Ready Loans', 'Precision Drive Auto Group', 'Auto Quick Capital', 'Wheel Trust Lending', 'Wheel Ready Capital', 'Road Speed Mart', 'Speed Advance Loans', 'Drive Equity Loans', 'Wheel Cash Lending', 'Car Cash Capital', 'FastTrack Quick Mart', 'FastTrack Quick Connect', 'imran a e', 'Road Speed Funding', 'atish C c', 'rakesh h F', 'Car Trust Lending', 'Velocity Ready Credit', 'Road Ready Hub', 'amit C i', 'Wheel Pavement Solutions', 'Velocity Dream Credit', 'Road Cash Hub', 'Prime Quick Lending', 'Drive Trust Solutions', 'Road Deal Finance', 'FastTrack Pavement Solutions', 'Prime Advance Mart', 'Road Dream Credit', 'Motor Advance Solutions', 'Car Advance Credit', 'Drive Ready Funding', 'Motor Speed Credit', 'Prime Speed Credit', 'Drive Ready Credit', 'Drive Dream Solutions', 'Drive Equity Connect', 'Motor Pavement Mart', 'FastTrack Speed Finance', 'Drive Deal Funding', 'Velocity Pavement Loans', 'Wheel Ready Lending', 'FastTrack Trust Finance', 'Speed Equity Hub', 'Drive Quick Credit', 'Drive Pavement Loans', 'Road Speed Loans', 'Motor Dream Lending', 'Drive Quick Hub', 'Car Cash Credit', 'Road Equity Hub', 'Car Ready Mart', 'Motor Advance Loans', 'Speed Trust Finance', 'Velocity Speed Hub', 'Motor Ready Funding', 'Auto Quick Finance', 'Auto Equity Connect', 'imran s c', 'kamla s n', 'Wheel Equity Loans', 'Motor Trust Funding', 'FastTrack Trust Funding', 'omkar h n', 'Wheel Dream Lending', 'Car Deal Solutions', 'panda s c', 'Speed Ready Connect', 'Road Dream Finance', 'Legend Drive Auto', 'Express Drive Auto', 'Car Quick Credit', 'Velocity Pavement Credit', 'shahrukh s i', 'Motor Quick Mart', 'FastTrack Trust Solutions', 'Wheel Advance Finance', 'Speed Trust Credit', 'Speed Deal Hub', 'Car Ready Connect', 'Velocity Trust Finance', 'Motor Deal Capital', 'Motor Speed Mart', 'Road Equity Mart']"
        ],
        [
         "1",
         "Vikram Singh",
         "46436452",
         "['Gauri Reddy', 'Vanya Tiwari', 'Zara Malhotra', 'Devika Gupta', 'Saisha Chawla', 'Ahaan Mathur', 'Bhavya Oberoi', 'Divya Rajan', 'Eshaal Saxena', 'Hina Wagh', 'Jaideep Zala', 'Lavanya Bhalla', 'Nandini Dube', 'Omkar Ekbote', 'Urmila Jain', 'Pooja Ekbote', 'Kabir Chatterjee', 'Naman Singh', 'Saanvi Sharma', 'Mohan Raj', 'Raj Aggarwal', 'Karishma Anand', 'Falguni Mukhopadhyay', 'Tanishka Desai', 'Keshav Kapoor', 'Uday Rana', 'Reeva Choudhury', 'Siya Joshi', 'Tanisha Sharma', 'Aanya Rao', 'Aryan Chatterjee', 'Rajan Nair', 'Ananya Reddy']",
         "['Apex Automotive', 'Dream Drive Dealership', 'Dynamic Drive Dealership', 'Royal Motors', 'Marvel Drive', 'Grand Drive Motors', 'Speedy Auto Group', 'Freedom Motors Group', 'Turbocharged Auto Group', 'Victory Drive Group', 'Turbo Drive', 'Swift Motors', 'Precision Auto', 'Redline Auto', 'Victory Drive', 'Apex Wheels', 'Liberty Drive Auto', 'Express Drive', 'Infinity Motors', 'Platinum Drive', 'Victory Motors', 'High Gear Auto', 'Elite Drive Group', 'Supreme Drive Group', 'Infinity Drive Auto Group', 'High Gear Drive Auto', 'Wheel Deal Solutions', 'Motor Quick Mart', 'FastTrack Trust Solutions', 'salman s i', 'Speed Trust Credit', 'Speed Deal Hub', 'Speed Trust Connect', 'Car Trust Lending', 'Road Ready Hub', 'amit s F', 'Drive Equity Lending', 'Prime Speed Solutions', 'Road Dream Credit', 'Car Ready Connect', 'Motor Deal Capital', 'Drive Dream Solutions', 'rakesh a i', 'Drive Deal Funding', 'salman h F', 'Velocity Pavement Loans', 'Road Dream Connect', 'saurabh C i', 'Wheel Equity Funding', 'Car Cash Credit', 'Auto Quick Finance', 'atish h n', 'Car Deal Solutions', 'Drive Quick Connect', 'imran C a', 'Prime Pavement Connect', 'Skyline Auto', 'Speed Dream Loans', 'panda s a', 'Swift Drive Group', 'Infinity Drive Dealership', 'Supreme Drive Auto', 'Prime Cash Credit', 'shahrukh h c', 'Road Dream Hub', 'Wheel Quick Funding', 'salman a n', 'Car Deal Loans', 'panda a e', 'Prime Quick Hub', 'Auto Advance Funding', 'Velocity Cash Loans', 'Motor Speed Hub', 'Velocity Dream Mart', 'Road Deal Finance', 'FastTrack Trust Capital', 'FastTrack Dream Connect', 'FastTrack Equity Connect', 'Drive Advance Lending', 'Motor Speed Capital', 'Wheel Advance Hub', 'rakesh C a', 'Motor Deal Credit', 'Auto Dream Solutions', 'FastTrack Equity Mart', 'Speed Quick Finance', 'Road Speed Solutions', 'Road Pavement Hub', 'Dream Drive Auto Group', 'kamla s a', 'Auto Quick Lending', 'salman C n', 'Motor Advance Loans', 'FastTrack Trust Funding', 'FastTrack Equity Lending', 'Velocity Deal Credit', 'Motor Dream Funding', 'Road Speed Credit', 'imran h i', 'Drive Deal Mart', 'rakesh h a', 'FastTrack Pavement Mart', 'Velocity Speed Finance', 'Road Advance Connect', 'Wheel Equity Finance']"
        ],
        [
         "2",
         "Sameer Desai",
         "40904412",
         "['Samaira Khanna', 'Vihaan Menon', 'Zara Chawla', 'Aanya Thakkar', 'Aditya Kapoor', 'Eesha Reddy', 'Ishika Malhotra', 'Laksh Gupta', 'Meher Patel', 'Naina Sharma', 'Aarav Chatterjee', 'Devika Mehra', 'Rishi Iyer', 'Riya Reddy', 'Kiaan Sinha', 'Bhavika Sharma', 'Vihaan Kapoor', 'Mira Malhotra', 'Devansh Reddy', 'Ishaan Singh', 'Jai Chatterjee', 'Kiara Malhotra']",
         "['Dream Wheels', 'Ultimate Drive', 'Marvel Auto', 'City Drive Auto', 'Blue Ribbon Motors Group', 'Wheel Deal Solutions', 'FastTrack Trust Solutions', 'FastTrack Advance Loans', 'Car Trust Lending', 'Drive Equity Lending', 'salman h F', 'Velocity Pavement Loans', 'Wheel Equity Funding', 'atish h n', 'Velocity Advance Connect', 'Car Deal Solutions', 'Velocity Equity Mart', 'Royal Drive', 'Apex Drive Group', 'Wheel Trust Capital', 'Wheel Speed Finance', 'atish C n', 'Turbocharged Cars', 'Car Speed Solutions', 'FastTrack Speed Funding', 'Drive Deal Lending', 'Roadmaster Drive', 'Car Equity Funding', 'Auto Deal Capital', 'Speed Ready Finance', 'Car Trust Connect', 'Alpha Auto']"
        ],
        [
         "3",
         "Priya Patel",
         "35429170",
         "['Falak Gupta', 'Hritik Nair', 'Naina Sharma', 'Nakul Verma', 'Chirag Singh', 'Shiv Sharma', 'Chirag Parekh', 'Gaurav Verma', 'Ira Yadav', 'Mayank Chauhan', 'Rohan Gokhale', 'Sakshi Hegde', 'Tarun Iyer', 'Veer Kapoor', 'Waqar Khan', 'Nandini Dube', 'Aryan Reddy', 'Riddhima Bhatt', 'Saanvi Gupta', 'Sara Singh', 'Ira Sharma', 'Eshaan Patel', 'Rahul Verma', 'Aryaman Singh', 'Kiaan Gupta', 'Anaya Narang', 'Arya Naidu', 'Riya Reddy', 'Shivansh Nair', 'Vanya Shah', 'Adhira Kapoor', 'Arya Chatterjee', 'Ananya Reddy', 'Aadi Sharma', 'Aarohi Choudhury']",
         "['Elite Wheels', 'Grand Prix Motors', 'Precision Motors', 'Dynamic Drive Dealership', 'Dynamic Motors', 'Freedom Auto', 'Apex Auto', 'Speedy Auto', 'Turbocharged Auto', 'Diamond Drive Dealership', 'Elite Motors', 'Roadmaster Auto', 'Starlight Auto', 'Royal Auto Group', 'Skyline Auto', 'Elite Drive Group', 'Platinum Drive Group', 'Supreme Drive Group', 'Starlight Drive Group', 'Infinity Drive Auto Group', 'Wheel Deal Solutions', 'FastTrack Advance Loans', 'Car Trust Lending', 'Wheel Quick Hub', 'Blue Ribbon Auto', 'amit s F', 'Drive Equity Lending', 'salman C n', 'Prime Speed Solutions', 'Road Dream Credit', 'Motor Deal Capital', 'rakesh a i', 'Motor Speed Mart', 'Road Equity Mart', 'Velocity Pavement Loans', 'Road Dream Connect', 'Car Cash Credit', 'Auto Quick Finance', 'kamla s n', 'atish h n', 'saurabh C c', 'Motor Cash Mart', 'omkar a i', 'Redline Drive', 'rakesh C c', 'Liberty Drive Group', 'Blue Ribbon Drive Auto', 'Drive Speed Connect', 'Roadrunner Drive Group', 'Platinum Drive Auto', 'omkar C e', 'Road Dream Hub', 'Road Quick Credit', 'FastTrack Trust Mart', 'FastTrack Equity Lending', 'Motor Trust Credit', 'Motor Ready Connect', 'Velocity Pavement Lending', 'shahrukh h n', 'amit C i', 'Motor Dream Loans', 'FastTrack Pavement Hub', 'Car Cash Lending', 'shahrukh a n', 'shahrukh C e', 'panda h n', 'Velocity Cash Credit', 'Wheel Deal Loans', 'Prime Equity Connect', 'Wheel Pavement Connect', 'rakesh C a', 'Wheel Pavement Loans', 'Road Pavement Hub', 'Car Quick Solutions', 'rakesh s c', 'Speed Ready Connect', 'panda h c', 'FastTrack Quick Connect', 'salman C i', 'Drive Pavement Lending', 'Motor Dream Lending', 'Road Cash Mart', 'panda C i', 'Drive Advance Credit', 'Car Deal Credit', 'salman C e', 'Velocity Cash Capital', 'Auto Ready Funding', 'Drive Equity Capital', 'FastTrack Dream Capital']"
        ],
        [
         "4",
         "Rohit Reddy",
         "32119758",
         "['Aarush Sharma', 'Tanvi Shah', 'Eshaan Patel', 'Rahul Verma', 'Tanishka Sharma', 'Advik Malhotra', 'Devika Gupta', 'Karishma Anand', 'Riddhima Kumar', 'Falguni Mukhopadhyay', 'Vanya Sharma', 'Pranav Singh', 'Uday Rana', 'Arya Naidu', 'Aman Mehra', 'Aarohi Sharma', 'Bhavna Gupta', 'Saanvi Patel', 'Riddhima Bhatt', 'Anaya Narang', 'Arya Reddy', 'Rudra Gupta', 'Jai Reddy', 'Naman Choudhury', 'Shanaya Singh']",
         "['Liberty Drive Group', 'Top Gear Drive Group', 'omkar C e', 'Road Quick Credit', 'FastTrack Trust Mart', 'FastTrack Quick Mart', 'salman a n', 'Auto Cash Connect', 'Velocity Cash Loans', 'Auto Equity Finance', 'FastTrack Trust Capital', 'FastTrack Dream Connect', 'FastTrack Dream Finance', 'Drive Quick Credit', 'Wheel Pavement Loans', 'Road Pavement Hub', 'FastTrack Speed Lending', 'panda h c', 'Drive Speed Connect', 'Liberty Drive Auto Group', 'Velocity Trust Loans', 'Velocity Equity Finance', 'Road Dream Funding', 'shahrukh C e', 'panda h n', 'Drive Ready Funding', 'Prime Equity Connect', 'Car Pavement Capital', 'Roadrunner Drive Auto', 'Grand Prix Drive Auto', 'saurabh C n', 'Auto Quick Loans', 'Motor Ready Credit', 'atish h F', 'FastTrack Equity Finance', 'Drive Dream Hub', 'Road Advance Credit', 'Prime Ready Connect', 'Drive Trust Loans', 'shahrukh a a', 'Motor Deal Credit', 'Auto Dream Solutions', 'Velocity Speed Funding', 'Car Trust Mart', 'Prime Advance Credit', 'Car Quick Solutions', 'Velocity Quick Solutions', 'FastTrack Pavement Funding']"
        ],
        [
         "5",
         "Aditya Shah",
         "31934659",
         "['Nakul Verma', 'Lekha Varma', 'Yashika Jain', 'Vedant Iyengar', 'Prisha Pillai', 'Aryahi Deshpande', 'Kaira Thakur', 'Inaaya Rao', 'Aadhira Mahajan', 'Shaan Nair', 'Shiv Mehra', 'Aarav Lal', 'Hiral Patel', 'Tanisha Dutta', 'Aditi Sinha', 'Ahaana Singh', 'Bhavya Gupta', 'Sia Menon', 'Devansh Reddy', 'Paridhi Rastogi', 'Prisha Gupta', 'Anika Reddy', 'Devanshi Patel', 'Adhiraj Patel', 'Yuvraj Iyer', 'Vanshika Chatterjee']",
         "['Elite Drive Group', 'Platinum Drive Group', 'Supreme Drive Group', 'Express Drive Auto', 'Starlight Drive Group', 'Precision Drive Auto Group', 'Wheel Deal Solutions', 'Wheel Trust Lending', 'Velocity Pavement Credit', 'FastTrack Trust Solutions', 'Car Cash Capital', 'Speed Trust Credit', 'FastTrack Advance Loans', 'Road Speed Funding', 'Speed Trust Connect', 'Car Trust Lending', 'Wheel Quick Hub', 'amit s F', 'Drive Equity Lending', 'salman C n', 'Prime Speed Solutions', 'Velocity Trust Finance', 'Motor Deal Capital', 'Drive Dream Solutions', 'rakesh a i', 'Drive Equity Connect', 'Drive Deal Funding', 'salman h F', 'Velocity Pavement Loans', 'Road Speed Loans', 'Auto Quick Finance', 'atish h n', 'omkar h n', 'Car Deal Solutions', 'Speedy Drive', 'Redline Motors', 'Velocity Advance Credit', 'Precision Drive Group', 'Swift Drive Auto', 'Speed Pavement Mart', 'salman s i', 'Speed Cash Mart', 'Blue Ribbon Auto', 'kamla s e', 'FastTrack Ready Finance', 'Drive Dream Finance', 'salman s F', 'Drive Deal Finance', 'Motor Advance Finance']"
        ],
        [
         "6",
         "Deepak Patel",
         "30631162",
         "['Falguni Reddy', 'Jayesh Chatterjee', 'Amaira Chandra', 'Yash Lamba', 'Zain Mehta', 'Aanya Nagar', 'Karishma Zala', 'Vaishnavi Nair', 'Aadhya Trivedi', 'Pihu Bhat', 'Devansh Joshi', 'Sameer Reddy', 'Sara Sharma', 'Shreya Iyer', 'Manvi Sharma', 'Samaira Khurana', 'Rushil Nair', 'Aisha Reddy', 'Kiara Iyer', 'Vanya Mehta', 'Zara Singh', 'Bhavya Chatterjee', 'Kritika Malhotra', 'Mannat Rao', 'Naman Sharma', 'Rehan Verma', 'Simran Malhotra', 'Tanay Gupta', 'Mannat Gupta', 'Tanvi Singh', 'Akshay Malhotra', 'Anvi Kapoor', 'Siddharth Sharma']",
         "['Prime Wheels', 'City Drive Auto', 'Dynamic Auto', 'Liberty Auto Group', 'Turbo Drive Motors', 'Dream Drive Group', 'Apex Drive Dealership', 'Liberty Auto', 'Prestige Drive', 'Elite Drive Group', 'Platinum Drive Group', 'Supreme Drive Group', 'Wheel Ready Capital', 'FastTrack Trust Solutions', 'Road Speed Funding', 'Speed Trust Connect', 'Car Trust Lending', 'amit s F', 'Drive Equity Lending', 'Prime Speed Solutions', 'Car Ready Connect', 'Velocity Trust Finance', 'Motor Deal Capital', 'rakesh a i', 'FastTrack Speed Finance', 'Drive Deal Funding', 'salman h F', 'Road Speed Loans', 'Car Cash Credit', 'Auto Quick Finance', 'atish h n', 'Apex Drive Group', 'Infinity Drive Auto Group', 'High Gear Drive Auto', 'Wheel Trust Lending', 'Wheel Trust Capital', 'Wheel Speed Finance', 'kamla C a', 'Prime Cash Mart', 'atish C n', 'FastTrack Speed Credit', 'Speed Dream Finance', 'Wheel Equity Capital', 'Wheel Dream Credit', 'FastTrack Speed Funding', 'Velocity Equity Connect', 'Car Speed Solutions', 'Auto Deal Capital', 'Wheel Cash Solutions', 'Speed Ready Finance', 'Wheel Advance Credit', 'Velocity Equity Mart', 'salman a c', 'Car Speed Lending', 'Prestige Drive Auto', 'Prime Ready Loans', 'Wheel Advance Finance', 'rakesh h F', 'Road Advance Finance', 'Auto Ready Loans', 'Wheel Dream Funding', 'FastTrack Cash Hub', 'Road Ready Mart', 'kamla a a', 'Road Deal Hub', 'Car Equity Funding', 'Wheel Pavement Finance', 'City Drive Motors', 'Motor Speed Mart', 'Road Equity Mart', 'Car Trust Solutions']"
        ],
        [
         "7",
         "Rohan Mehta",
         "26105323",
         "['Manya Bhatia', 'Neel Joshi', 'Reyansh Sharma', 'Saanvi Choudhury', 'Zara Chawla', 'Aisha Singhania', 'Aryan Shah', 'Kiara Mehra', 'Saanvi Reddy', 'Oviya Singhania', 'Zoya Khurana', 'Chirag Oberoi', 'Eshaal Rajan', 'Tanvi Shinde', 'Sameer Kapoor', 'Anushka Patel', 'Arya Kapoor', 'Aadi Nair', 'Ayaan Singh', 'Ishaan Kapoor', 'Arjun Sengupta']",
         "['Infinity Auto', 'Prime Motors', 'Royal Ride Dealership', 'Skyline Motors', 'Starlight Motors', 'Prestige Wheels', 'ProDrive Motors', 'Liberty Motors', 'Victory Automotive', 'Top Gear Cars', 'Freedom Motors', 'Swift Auto', 'Alpha Motors', 'Express Auto', 'Swift Auto Group', 'Elite Drive Group', 'Supreme Drive Group', 'Starlight Drive Group', 'Auto Advance Capital', 'FastTrack Trust Solutions', 'Speed Dream Finance', 'salman s i', 'Speed Trust Connect', 'Car Trust Lending', 'amit s F', 'Drive Equity Lending', 'Prime Speed Solutions', 'salman h F', 'Road Dream Connect', 'Wheel Equity Funding', 'Auto Quick Finance', 'Diamond Drive Group', 'Velocity Pavement Connect', 'Speedy Wheels', 'Top Gear Drive Auto', 'Car Pavement Lending', 'Elite Drive Auto Group', 'Blue Ribbon Motors', 'amit h i', 'atish a n', 'panda s i', 'saurabh s n', 'Drive Pavement Finance', 'rakesh h c', 'imran a n', 'Wheel Trust Loans', 'Prime Pavement Mart', 'saurabh a a', 'Motor Cash Connect', 'rakesh a i', 'Drive Pavement Solutions', 'Velocity Deal Lending', 'Motor Trust Funding', 'Prime Trust Lending', 'Prime Ready Hub', 'Apex Drive Auto Group', 'Prime Drive Auto', 'Car Advance Capital', 'Motor Quick Credit']"
        ],
        [
         "8",
         "Kavita Reddy",
         "20906438",
         "['Om Mishra', 'Prisha Thakur', 'Qureshi Mehta', 'Yashika Das', 'Aahana Thakkar', 'Aditya Kapoor', 'Eesha Reddy', 'Ishika Malhotra', 'Jayesh Chatterjee', 'Laksh Gupta', 'Meher Patel', 'Radha Bajaj', 'Rahul Desai', 'Siya Agarwal', 'Tarun Joshi', 'Vansh Sharma', 'Aaradhya Chaudhary', 'Anaya Mathur', 'Rudra Rawat', 'Vansh Rao', 'Aadya Patel', 'Saisha Joshi', 'Vanya Singh', 'Bhavya Sharma', 'Vivaan Malhotra', 'Pankaj Kapoor', 'Siya Nayar', 'Samaira Chatterjee', 'Aarav Bhat', 'Sameer Gupta']",
         "['Top Gear Cars', 'Liberty Automotive', 'Prime Motors', 'Prestige Wheels', 'Speedy Wheels', 'Apex Motors', 'Swift Auto', 'Skyline Motors', 'Starlight Motors', 'Roadrunner Cars', 'Redline Auto Group', 'Powerhouse Auto', 'Alpha Motors', 'Grand Prix Auto', 'Victory Automotive', 'Velocity Auto', 'Supreme Auto Group', 'Star Motors', 'Roadrunner Auto', 'Marvel Motors', 'High Gear Automotive', 'Prime Drive', 'Freedom Motors', 'Express Auto', 'High Gear Drive', 'Royal Ride Dealership', 'Elite Drive Group', 'Supreme Drive Group', 'Infinity Drive Auto Group', 'Precision Drive Auto Group', 'FastTrack Trust Solutions', 'FastTrack Advance Loans', 'Speed Trust Connect', 'rakesh h F', 'Road Ready Hub', 'Blue Ribbon Auto', 'amit s F', 'Drive Equity Lending', 'Prime Speed Solutions', 'Velocity Trust Finance', 'Drive Deal Funding', 'salman h F', 'Road Equity Mart', 'Road Dream Connect', 'atish h n', 'omkar h n', 'Car Deal Solutions', 'Freedom Wheels', 'Top Gear Drive Auto', 'Diamond Drive Group', 'Elite Drive Auto Group', 'Auto Quick Capital', 'amit h i', 'shahrukh s i', 'atish a n', 'Motor Quick Credit', 'Speed Trust Credit', 'panda s i', 'saurabh s n', 'rakesh h c', 'panda C n', 'Auto Cash Solutions', 'Wheel Trust Loans', 'Prime Pavement Mart', 'Wheel Trust Mart', 'Motor Deal Lending', 'Drive Advance Funding', 'Car Advance Hub', 'Prime Quick Capital', 'Road Quick Capital', 'rakesh a i', 'FastTrack Ready Finance', 'Drive Pavement Hub', 'amit a F', 'Velocity Deal Lending', 'Prime Trust Lending', 'Velocity Speed Lending', 'Drive Dream Finance', 'Car Pavement Lending']"
        ],
        [
         "9",
         "Ayesha Khan",
         "20526132",
         "['Yash Rawat', 'Aisha Singhania', 'Aryan Shah', 'Diya Menon', 'Mayank Bhalla', 'Omkar Dube', 'Sakshi Gokhale', 'Urmila Iyer', 'Veer Jain', 'Avni Patel', 'Manya Malhotra', 'Urmila Jain', 'Anushree Gupta', 'Ritvik Patel', 'Neil Rao', 'Pooja Sharma', 'Ahan Patel', 'Kiara Chatterjee', 'Shreya Mehta', 'Keshav Choudhury', 'Pranav Singh', 'Radhika Malhotra', 'Saanvi Verma', 'Sia Mehta']",
         "['Ultimate Drive', 'Turbocharged Motors', 'Victory Auto Group', 'Star Drive', 'Roadmaster Motors', 'Apex Drive Auto', 'Apex Drive Dealership', 'ProDrive Auto Group', 'Elite Drive Group', 'Supreme Drive Group', 'FastTrack Advance Loans', 'Speed Trust Connect', 'rakesh h F', 'Car Trust Lending', 'Road Ready Hub', 'Drive Equity Lending', 'Prime Speed Solutions', 'Road Dream Credit', 'Drive Trust Connect', 'Motor Deal Capital', 'rakesh a i', 'Drive Deal Funding', 'salman h F', 'Road Equity Mart', 'Road Dream Connect', 'Wheel Equity Funding', 'atish h n', 'omkar h n', 'Velocity Drive Auto', 'Auto Equity Hub', 'Auto Pavement Lending', 'FastTrack Speed Funding', 'Car Speed Solutions', 'Auto Deal Capital', 'Victory Drive Dealership', 'Car Cash Finance', 'Drive Deal Lending', 'Velocity Equity Mart', 'Prime Equity Mart', 'Wheel Ready Lending', 'panda s c', 'atish C n', 'rakesh h i', 'Blue Ribbon Drive Group', 'Prime Speed Hub', 'shahrukh h i', 'Car Trust Connect', 'Wheel Dream Capital', 'Wheel Dream Funding']"
        ]
       ],
       "shape": {
        "columns": 4,
        "rows": 10
       }
      },
      "text/html": [
       "<div>\n",
       "<style scoped>\n",
       "    .dataframe tbody tr th:only-of-type {\n",
       "        vertical-align: middle;\n",
       "    }\n",
       "\n",
       "    .dataframe tbody tr th {\n",
       "        vertical-align: top;\n",
       "    }\n",
       "\n",
       "    .dataframe thead th {\n",
       "        text-align: right;\n",
       "    }\n",
       "</style>\n",
       "<table border=\"1\" class=\"dataframe\">\n",
       "  <thead>\n",
       "    <tr style=\"text-align: right;\">\n",
       "      <th></th>\n",
       "      <th>Sales Manager</th>\n",
       "      <th>Total Loan Amount</th>\n",
       "      <th>Sales Reps</th>\n",
       "      <th>Dealers</th>\n",
       "    </tr>\n",
       "  </thead>\n",
       "  <tbody>\n",
       "    <tr>\n",
       "      <th>0</th>\n",
       "      <td>Rakesh Kumar</td>\n",
       "      <td>765699029</td>\n",
       "      <td>[Trisha Rao, Shiv Sharma, Vanya Tiwari, Raj Ag...</td>\n",
       "      <td>[Blue Ribbon Motors, Turbocharged Cars, City D...</td>\n",
       "    </tr>\n",
       "    <tr>\n",
       "      <th>1</th>\n",
       "      <td>Vikram Singh</td>\n",
       "      <td>46436452</td>\n",
       "      <td>[Gauri Reddy, Vanya Tiwari, Zara Malhotra, Dev...</td>\n",
       "      <td>[Apex Automotive, Dream Drive Dealership, Dyna...</td>\n",
       "    </tr>\n",
       "    <tr>\n",
       "      <th>2</th>\n",
       "      <td>Sameer Desai</td>\n",
       "      <td>40904412</td>\n",
       "      <td>[Samaira Khanna, Vihaan Menon, Zara Chawla, Aa...</td>\n",
       "      <td>[Dream Wheels, Ultimate Drive, Marvel Auto, Ci...</td>\n",
       "    </tr>\n",
       "    <tr>\n",
       "      <th>3</th>\n",
       "      <td>Priya Patel</td>\n",
       "      <td>35429170</td>\n",
       "      <td>[Falak Gupta, Hritik Nair, Naina Sharma, Nakul...</td>\n",
       "      <td>[Elite Wheels, Grand Prix Motors, Precision Mo...</td>\n",
       "    </tr>\n",
       "    <tr>\n",
       "      <th>4</th>\n",
       "      <td>Rohit Reddy</td>\n",
       "      <td>32119758</td>\n",
       "      <td>[Aarush Sharma, Tanvi Shah, Eshaan Patel, Rahu...</td>\n",
       "      <td>[Liberty Drive Group, Top Gear Drive Group, om...</td>\n",
       "    </tr>\n",
       "    <tr>\n",
       "      <th>5</th>\n",
       "      <td>Aditya Shah</td>\n",
       "      <td>31934659</td>\n",
       "      <td>[Nakul Verma, Lekha Varma, Yashika Jain, Vedan...</td>\n",
       "      <td>[Elite Drive Group, Platinum Drive Group, Supr...</td>\n",
       "    </tr>\n",
       "    <tr>\n",
       "      <th>6</th>\n",
       "      <td>Deepak Patel</td>\n",
       "      <td>30631162</td>\n",
       "      <td>[Falguni Reddy, Jayesh Chatterjee, Amaira Chan...</td>\n",
       "      <td>[Prime Wheels, City Drive Auto, Dynamic Auto, ...</td>\n",
       "    </tr>\n",
       "    <tr>\n",
       "      <th>7</th>\n",
       "      <td>Rohan Mehta</td>\n",
       "      <td>26105323</td>\n",
       "      <td>[Manya Bhatia, Neel Joshi, Reyansh Sharma, Saa...</td>\n",
       "      <td>[Infinity Auto, Prime Motors, Royal Ride Deale...</td>\n",
       "    </tr>\n",
       "    <tr>\n",
       "      <th>8</th>\n",
       "      <td>Kavita Reddy</td>\n",
       "      <td>20906438</td>\n",
       "      <td>[Om Mishra, Prisha Thakur, Qureshi Mehta, Yash...</td>\n",
       "      <td>[Top Gear Cars, Liberty Automotive, Prime Moto...</td>\n",
       "    </tr>\n",
       "    <tr>\n",
       "      <th>9</th>\n",
       "      <td>Ayesha Khan</td>\n",
       "      <td>20526132</td>\n",
       "      <td>[Yash Rawat, Aisha Singhania, Aryan Shah, Diya...</td>\n",
       "      <td>[Ultimate Drive, Turbocharged Motors, Victory ...</td>\n",
       "    </tr>\n",
       "  </tbody>\n",
       "</table>\n",
       "</div>"
      ],
      "text/plain": [
       "  Sales Manager  Total Loan Amount  \\\n",
       "0  Rakesh Kumar          765699029   \n",
       "1  Vikram Singh           46436452   \n",
       "2  Sameer Desai           40904412   \n",
       "3   Priya Patel           35429170   \n",
       "4   Rohit Reddy           32119758   \n",
       "5   Aditya Shah           31934659   \n",
       "6  Deepak Patel           30631162   \n",
       "7   Rohan Mehta           26105323   \n",
       "8  Kavita Reddy           20906438   \n",
       "9   Ayesha Khan           20526132   \n",
       "\n",
       "                                          Sales Reps  \\\n",
       "0  [Trisha Rao, Shiv Sharma, Vanya Tiwari, Raj Ag...   \n",
       "1  [Gauri Reddy, Vanya Tiwari, Zara Malhotra, Dev...   \n",
       "2  [Samaira Khanna, Vihaan Menon, Zara Chawla, Aa...   \n",
       "3  [Falak Gupta, Hritik Nair, Naina Sharma, Nakul...   \n",
       "4  [Aarush Sharma, Tanvi Shah, Eshaan Patel, Rahu...   \n",
       "5  [Nakul Verma, Lekha Varma, Yashika Jain, Vedan...   \n",
       "6  [Falguni Reddy, Jayesh Chatterjee, Amaira Chan...   \n",
       "7  [Manya Bhatia, Neel Joshi, Reyansh Sharma, Saa...   \n",
       "8  [Om Mishra, Prisha Thakur, Qureshi Mehta, Yash...   \n",
       "9  [Yash Rawat, Aisha Singhania, Aryan Shah, Diya...   \n",
       "\n",
       "                                             Dealers  \n",
       "0  [Blue Ribbon Motors, Turbocharged Cars, City D...  \n",
       "1  [Apex Automotive, Dream Drive Dealership, Dyna...  \n",
       "2  [Dream Wheels, Ultimate Drive, Marvel Auto, Ci...  \n",
       "3  [Elite Wheels, Grand Prix Motors, Precision Mo...  \n",
       "4  [Liberty Drive Group, Top Gear Drive Group, om...  \n",
       "5  [Elite Drive Group, Platinum Drive Group, Supr...  \n",
       "6  [Prime Wheels, City Drive Auto, Dynamic Auto, ...  \n",
       "7  [Infinity Auto, Prime Motors, Royal Ride Deale...  \n",
       "8  [Top Gear Cars, Liberty Automotive, Prime Moto...  \n",
       "9  [Ultimate Drive, Turbocharged Motors, Victory ...  "
      ]
     },
     "execution_count": 12,
     "metadata": {},
     "output_type": "execute_result"
    }
   ],
   "source": [
    "# Calculate the total loan amount per sales manager\n",
    "top_sales_managers = df.groupby('sales_manager')['loan_amt'].sum().nlargest(10).reset_index()\n",
    "\n",
    "# Get sales reps and dealers under each top sales manager\n",
    "top_sales_managers_details = []\n",
    "\n",
    "for manager in top_sales_managers['sales_manager']:\n",
    "    sales_reps = df[df['sales_manager'] == manager]['sales_rep'].unique().tolist()\n",
    "    dealers = df[df['sales_manager'] == manager]['dealer'].unique().tolist()\n",
    "    total_loan_amount = df[df['sales_manager'] == manager]['loan_amt'].sum()\n",
    "    \n",
    "    top_sales_managers_details.append({\n",
    "        'Sales Manager': manager,\n",
    "        'Total Loan Amount': total_loan_amount,\n",
    "        'Sales Reps': sales_reps,\n",
    "        'Dealers': dealers\n",
    "    })\n",
    "\n",
    "# Convert the result to a DataFrame for better readability\n",
    "top_sales_managers_df = pd.DataFrame(top_sales_managers_details)\n",
    "\n",
    "# Display the result\n",
    "top_sales_managers_df"
   ]
  },
  {
   "cell_type": "markdown",
   "id": "a9a6cc39",
   "metadata": {},
   "source": [
    "**Q2. What is the distribution of customers across different cities and regions?**"
   ]
  },
  {
   "cell_type": "code",
   "execution_count": 13,
   "id": "37ffbb82",
   "metadata": {},
   "outputs": [
    {
     "name": "stdout",
     "output_type": "stream",
     "text": [
      "Customer Distribution Across Cities:\n",
      "city\n",
      "Mumbai         3948\n",
      "Pune           2629\n",
      "Bangalore      2333\n",
      "Ahmedabad      1855\n",
      "Nagpur         1139\n",
      "Hyderabad       902\n",
      "Nadiad          687\n",
      "Gandhinagar     506\n",
      "Tumkur          487\n",
      "Anand           460\n",
      "Vadodara        366\n",
      "Solapur         305\n",
      "Mehsana         300\n",
      "Mangalore       260\n",
      "Nashik          193\n",
      "Mysore          178\n",
      "Baramati        164\n",
      "Satara          126\n",
      "Sabarkatha       70\n",
      "Phaltan          55\n",
      "Udupi            35\n",
      "Name: count, dtype: int64\n",
      "\n",
      "Customer Distribution Across Regions:\n",
      "region\n",
      "Rom          4588\n",
      "Gujarat      4166\n",
      "Mumbai       3934\n",
      "Karnataka    3415\n",
      "Telangana     895\n",
      "Name: count, dtype: int64\n"
     ]
    }
   ],
   "source": [
    "# Count the number of customers per city\n",
    "customer_distribution_city = df['city'].value_counts()\n",
    "\n",
    "# Count the number of customers per region\n",
    "customer_distribution_region = df['region'].value_counts()\n",
    "\n",
    "# Display the distribution of customers across cities\n",
    "print(\"Customer Distribution Across Cities:\")\n",
    "print(customer_distribution_city)\n",
    "\n",
    "# Display the distribution of customers across regions\n",
    "print(\"\\nCustomer Distribution Across Regions:\")\n",
    "print(customer_distribution_region)"
   ]
  },
  {
   "cell_type": "code",
   "execution_count": 14,
   "id": "493426a5",
   "metadata": {},
   "outputs": [
    {
     "data": {
      "text/plain": [
       "Text(0, 0.5, 'Number of Customers')"
      ]
     },
     "execution_count": 14,
     "metadata": {},
     "output_type": "execute_result"
    },
    {
     "data": {
      "image/png": "[encoded data removed]",
      "text/plain": [
       "<Figure size 1200x600 with 1 Axes>"
      ]
     },
     "metadata": {},
     "output_type": "display_data"
    }
   ],
   "source": [
    "# Plotting the distribution of customers across cities\n",
    "plt.figure(figsize=(12, 6))\n",
    "\n",
    "plt.subplot(1, 2, 1)\n",
    "customer_distribution_city.plot(kind='bar', color = 'skyblue')\n",
    "plt.title('Customer Distribution by City')\n",
    "plt.xlabel('City')\n",
    "plt.ylabel('Number of Customers')"
   ]
  },
  {
   "cell_type": "code",
   "execution_count": 15,
   "id": "6b70d1e8",
   "metadata": {},
   "outputs": [
    {
     "data": {
      "text/plain": [
       "Text(0, 0.5, 'Number of Customers')"
      ]
     },
     "execution_count": 15,
     "metadata": {},
     "output_type": "execute_result"
    },
    {
     "data": {
      "image/png": "[encoded data removed]",
      "text/plain": [
       "<Figure size 1200x600 with 1 Axes>"
      ]
     },
     "metadata": {},
     "output_type": "display_data"
    }
   ],
   "source": [
    "# Plotting the distribution of customers across cities\n",
    "plt.figure(figsize=(12, 6))\n",
    "\n",
    "plt.subplot(1, 2, 1)\n",
    "customer_distribution_region.plot(kind='bar', color = 'lightgreen')\n",
    "plt.title('Customer Distribution by Region')\n",
    "plt.xlabel('Region')\n",
    "plt.ylabel('Number of Customers')\n"
   ]
  },
  {
   "cell_type": "code",
   "execution_count": 16,
   "id": "721c8cec",
   "metadata": {},
   "outputs": [
    {
     "data": {
      "image/png": "[encoded data removed]",
      "text/plain": [
       "<Figure size 1200x600 with 2 Axes>"
      ]
     },
     "metadata": {},
     "output_type": "display_data"
    }
   ],
   "source": [
    "# Plotting the distribution of customers across cities\n",
    "plt.figure(figsize=(12, 6))\n",
    "\n",
    "plt.subplot(1, 2, 1)\n",
    "customer_distribution_city.plot(kind='bar', color='skyblue')\n",
    "plt.title('Customer Distribution Across Cities')\n",
    "plt.xlabel('City')\n",
    "plt.ylabel('Number of Customers')\n",
    "\n",
    "# Plotting the distribution of customers across regions\n",
    "plt.subplot(1, 2, 2)\n",
    "customer_distribution_region.plot(kind='bar', color='salmon')\n",
    "plt.title('Customer Distribution Across Regions')\n",
    "plt.xlabel('Region')\n",
    "plt.ylabel('Number of Customers')\n",
    "\n",
    "plt.tight_layout()\n",
    "plt.show()"
   ]
  },
  {
   "cell_type": "markdown",
   "id": "615a6ede",
   "metadata": {},
   "source": [
    "**Q3. Are there any cities with a significantly higher number of loans?**"
   ]
  },
  {
   "cell_type": "code",
   "execution_count": 17,
   "id": "64494ef9",
   "metadata": {},
   "outputs": [
    {
     "name": "stdout",
     "output_type": "stream",
     "text": [
      "Cities with a significantly higher number of loans:\n",
      "city\n",
      "Mumbai       3948\n",
      "Pune         2629\n",
      "Bangalore    2333\n",
      "Ahmedabad    1855\n",
      "Name: count, dtype: int64\n"
     ]
    }
   ],
   "source": [
    "# calculate the number of loan per city\n",
    "loans_per_city = df[\"city\"].value_counts()\n",
    "\n",
    "# calculate the number of loan per region\n",
    "loans_per_region = df[\"region\"].value_counts()\n",
    "\n",
    "# Identify cities with a significant higher number of loans\n",
    "significant_cities = loans_per_city[loans_per_city > loans_per_city.mean() + loans_per_city.std()]\n",
    "\n",
    "# Display the results\n",
    "print(\"Cities with a significantly higher number of loans:\")\n",
    "print(significant_cities)"
   ]
  },
  {
   "cell_type": "markdown",
   "id": "58149003",
   "metadata": {},
   "source": [
    "**Q4. What is the average rate of interest (ROI) across different regions and cities?**"
   ]
  },
  {
   "cell_type": "code",
   "execution_count": 18,
   "id": "1cba9de1",
   "metadata": {},
   "outputs": [
    {
     "name": "stdout",
     "output_type": "stream",
     "text": [
      "\n",
      "Average ROI per City:\n",
      "city\n",
      "Ahmedabad      11.721240\n",
      "Anand          11.826630\n",
      "Bangalore      11.640163\n",
      "Baramati       12.409390\n",
      "Gandhinagar    11.496542\n",
      "Hyderabad      12.035355\n",
      "Mangalore      13.798577\n",
      "Mehsana        11.567067\n",
      "Mumbai         11.446960\n",
      "Mysore         11.468652\n",
      "Nadiad         11.243566\n",
      "Nagpur         11.021967\n",
      "Nashik         10.822487\n",
      "Phaltan        12.274727\n",
      "Pune           12.656953\n",
      "Sabarkatha     12.862857\n",
      "Satara         12.331587\n",
      "Solapur        11.753148\n",
      "Tumkur         11.599569\n",
      "Udupi          12.446857\n",
      "Vadodara       11.646694\n",
      "Name: roi, dtype: float64\n",
      "\n",
      "Average ROI per Region:\n",
      "region\n",
      "Gujarat      11.629354\n",
      "Karnataka    11.801221\n",
      "Mumbai       11.444774\n",
      "Rom          12.096443\n",
      "Telangana    12.035709\n",
      "Name: roi, dtype: float64\n"
     ]
    }
   ],
   "source": [
    "# Calculate the average ROI per city\n",
    "average_roi_city = df.groupby('city')['roi'].mean()\n",
    "print(\"\\nAverage ROI per City:\")\n",
    "print(average_roi_city)\n",
    "\n",
    "# Calculate the average ROI per region\n",
    "average_roi_region = df.groupby('region')['roi'].mean()\n",
    "print(\"\\nAverage ROI per Region:\")\n",
    "print(average_roi_region)"
   ]
  },
  {
   "cell_type": "markdown",
   "id": "d1b15a29",
   "metadata": {},
   "source": [
    "**Q5. How does the loan tenure vary across different regions and cities?**"
   ]
  },
  {
   "cell_type": "code",
   "execution_count": 19,
   "id": "499d1f2c",
   "metadata": {},
   "outputs": [
    {
     "name": "stdout",
     "output_type": "stream",
     "text": [
      "\n",
      "Average Loan Tenure per City:\n",
      "city\n",
      "Ahmedabad      26.400539\n",
      "Anand          31.480435\n",
      "Bangalore      27.117017\n",
      "Baramati       27.292683\n",
      "Gandhinagar    29.306324\n",
      "Hyderabad      26.021064\n",
      "Mangalore      33.096154\n",
      "Mehsana        29.306667\n",
      "Mumbai         27.479483\n",
      "Mysore         31.348315\n",
      "Nadiad         29.200873\n",
      "Nagpur         28.547849\n",
      "Nashik         28.279793\n",
      "Phaltan        27.054545\n",
      "Pune           27.793077\n",
      "Sabarkatha     31.428571\n",
      "Satara         29.825397\n",
      "Solapur        30.373770\n",
      "Tumkur         25.425051\n",
      "Udupi          33.657143\n",
      "Vadodara       24.674863\n",
      "Name: tenure, dtype: float64\n",
      "\n",
      "Average Loan Tenure per Region:\n",
      "region\n",
      "Gujarat      27.878781\n",
      "Karnataka    27.645388\n",
      "Mumbai       27.480681\n",
      "Rom          28.204010\n",
      "Telangana    26.036872\n",
      "Name: tenure, dtype: float64\n"
     ]
    }
   ],
   "source": [
    "# Calculate the average loan tenure for each city\n",
    "average_tenure_per_city = df.groupby('city')['tenure'].mean()\n",
    "print(\"\\nAverage Loan Tenure per City:\")\n",
    "print(average_tenure_per_city)\n",
    "\n",
    "# Calculate the average loan tenure for each region\n",
    "average_tenure_per_region = df.groupby('region')['tenure'].mean()\n",
    "print(\"\\nAverage Loan Tenure per Region:\")\n",
    "print(average_tenure_per_region)"
   ]
  },
  {
   "cell_type": "markdown",
   "id": "8ae463bf",
   "metadata": {},
   "source": [
    "**Q6. Which dealers have the highest number of loans processed?**"
   ]
  },
  {
   "cell_type": "code",
   "execution_count": 20,
   "id": "74858617",
   "metadata": {},
   "outputs": [
    {
     "name": "stdout",
     "output_type": "stream",
     "text": [
      "\n",
      "Top Dealers by Number of Loans Processed:\n",
      "dealer\n",
      "Car Trust Connect            629\n",
      "Velocity Equity Mart         482\n",
      "salman s i                   339\n",
      "Prime Trust Lending          278\n",
      "salman s n                   264\n",
      "Supreme Drive Group          237\n",
      "Prime Speed Solutions        221\n",
      "omkar C i                    207\n",
      "Velocity Pavement Connect    185\n",
      "salman h F                   185\n",
      "Name: count, dtype: int64\n"
     ]
    }
   ],
   "source": [
    "# calculate the number of loans processed by each dealer\n",
    "dealer_loan_counts = df[\"dealer\"].value_counts()\n",
    "\n",
    "# Identify dealers with the highest number of loans processed\n",
    "top_dealers = dealer_loan_counts.head(10)\n",
    "\n",
    "# Display the top dealers\n",
    "print(\"\\nTop Dealers by Number of Loans Processed:\")\n",
    "print(top_dealers)"
   ]
  },
  {
   "cell_type": "markdown",
   "id": "5e0e5d85",
   "metadata": {},
   "source": [
    "**Q7. Find out the distribution of total loan amounts across different regions?**"
   ]
  },
  {
   "cell_type": "code",
   "execution_count": 21,
   "id": "91a1b059",
   "metadata": {},
   "outputs": [
    {
     "data": {
      "application/vnd.microsoft.datawrangler.viewer.v0+json": {
       "columns": [
        {
         "name": "region",
         "rawType": "object",
         "type": "string"
        },
        {
         "name": "count",
         "rawType": "int64",
         "type": "integer"
        }
       ],
       "ref": "7b1916e1-c072-4f07-8c21-8a03e95aeab5",
       "rows": [
        [
         "Rom",
         "4588"
        ],
        [
         "Gujarat",
         "4166"
        ],
        [
         "Mumbai",
         "3934"
        ],
        [
         "Karnataka",
         "3415"
        ],
        [
         "Telangana",
         "895"
        ]
       ],
       "shape": {
        "columns": 1,
        "rows": 5
       }
      },
      "text/plain": [
       "region\n",
       "Rom          4588\n",
       "Gujarat      4166\n",
       "Mumbai       3934\n",
       "Karnataka    3415\n",
       "Telangana     895\n",
       "Name: count, dtype: int64"
      ]
     },
     "execution_count": 21,
     "metadata": {},
     "output_type": "execute_result"
    }
   ],
   "source": [
    "df[\"region\"].value_counts()"
   ]
  },
  {
   "cell_type": "code",
   "execution_count": 22,
   "id": "2d6618de",
   "metadata": {},
   "outputs": [
    {
     "name": "stdout",
     "output_type": "stream",
     "text": [
      "\n",
      "Total Loan Amount per Region:\n",
      "region\n",
      "Gujarat      280755917\n",
      "Karnataka    275296576\n",
      "Mumbai       302939106\n",
      "Rom          328652118\n",
      "Telangana     66112247\n",
      "Name: loan_amt, dtype: int64\n"
     ]
    }
   ],
   "source": [
    "total_loan_amount_per_region = df.groupby(\"region\")[\"loan_amt\"].sum()\n",
    "print(\"\\nTotal Loan Amount per Region:\")\n",
    "print(total_loan_amount_per_region)"
   ]
  },
  {
   "cell_type": "code",
   "execution_count": 23,
   "id": "c12847c4",
   "metadata": {},
   "outputs": [
    {
     "name": "stdout",
     "output_type": "stream",
     "text": [
      "\n",
      "Total Loan Amount in Gujarat Region:\n",
      "280755917\n"
     ]
    }
   ],
   "source": [
    "# Filter entries for Gujarat region and sum the loan amounts\n",
    "total_loan_amount_gujarat = df[df['region'] == 'Gujarat']['loan_amt'].sum()\n",
    "\n",
    "print(\"\\nTotal Loan Amount in Gujarat Region:\")\n",
    "print(total_loan_amount_gujarat)"
   ]
  },
  {
   "cell_type": "code",
   "execution_count": 24,
   "id": "e5581731",
   "metadata": {},
   "outputs": [
    {
     "data": {
      "image/png": "[encoded data removed]",
      "text/plain": [
       "<Figure size 800x800 with 1 Axes>"
      ]
     },
     "metadata": {},
     "output_type": "display_data"
    }
   ],
   "source": [
    "import matplotlib.pyplot as plt\n",
    "\n",
    "# Your grouped data\n",
    "total_loan_amount_per_region = df.groupby(\"region\")[\"loan_amt\"].sum()\n",
    "\n",
    "# Create pie chart\n",
    "plt.figure(figsize=(8, 8))\n",
    "\n",
    "def absolute_value(val):\n",
    "    absolute = int(val/100 * total_loan_amount_per_region.sum())\n",
    "    return f\"{val:.1f}%\\n({absolute:,})\"\n",
    "\n",
    "plt.pie(\n",
    "    total_loan_amount_per_region,\n",
    "    labels=total_loan_amount_per_region.index,\n",
    "    autopct=absolute_value,\n",
    "    colors=plt.cm.Pastel1.colors,\n",
    "    startangle=140\n",
    ")\n",
    "\n",
    "plt.title(\"Total Loan Amount Distribution by Region\")\n",
    "plt.tight_layout()\n",
    "plt.show()\n"
   ]
  },
  {
   "cell_type": "code",
   "execution_count": 25,
   "id": "61704d4d",
   "metadata": {},
   "outputs": [
    {
     "data": {
      "application/vnd.plotly.v1+json": {
       "config": {
        "plotlyServerURL": "https://plot.ly"
       },
       "data": [
        {
         "domain": {
          "x": [
           0,
           1
          ],
          "y": [
           0,
           1
          ]
         },
         "hovertemplate": "region=%{label}<br>loan_amt=%{value}<extra></extra>",
         "labels": [
          "Gujarat",
          "Karnataka",
          "Mumbai",
          "Rom",
          "Telangana"
         ],
         "legendgroup": "",
         "name": "",
         "showlegend": true,
         "textinfo": "percent+label",
         "textposition": "inside",
         "type": "pie",
         "values": {
          "bdata": "zf67EECxaBDiew4SVtWWE/fK8AM=",
          "dtype": "i4"
         }
        }
       ],
       "layout": {
        "legend": {
         "tracegroupgap": 0
        },
        "template": {
         "data": {
          "bar": [
           {
            "error_x": {
             "color": "#2a3f5f"
            },
            "error_y": {
             "color": "#2a3f5f"
            },
            "marker": {
             "line": {
              "color": "#E5ECF6",
              "width": 0.5
             },
             "pattern": {
              "fillmode": "overlay",
              "size": 10,
              "solidity": 0.2
             }
            },
            "type": "bar"
           }
          ],
          "barpolar": [
           {
            "marker": {
             "line": {
              "color": "#E5ECF6",
              "width": 0.5
             },
             "pattern": {
              "fillmode": "overlay",
              "size": 10,
              "solidity": 0.2
             }
            },
            "type": "barpolar"
           }
          ],
          "carpet": [
           {
            "aaxis": {
             "endlinecolor": "#2a3f5f",
             "gridcolor": "white",
             "linecolor": "white",
             "minorgridcolor": "white",
             "startlinecolor": "#2a3f5f"
            },
            "baxis": {
             "endlinecolor": "#2a3f5f",
             "gridcolor": "white",
             "linecolor": "white",
             "minorgridcolor": "white",
             "startlinecolor": "#2a3f5f"
            },
            "type": "carpet"
           }
          ],
          "choropleth": [
           {
            "colorbar": {
             "outlinewidth": 0,
             "ticks": ""
            },
            "type": "choropleth"
           }
          ],
          "contour": [
           {
            "colorbar": {
             "outlinewidth": 0,
             "ticks": ""
            },
            "colorscale": [
             [
              0,
              "#0d0887"
             ],
             [
              0.1111111111111111,
              "#46039f"
             ],
             [
              0.2222222222222222,
              "#7201a8"
             ],
             [
              0.3333333333333333,
              "#9c179e"
             ],
             [
              0.4444444444444444,
              "#bd3786"
             ],
             [
              0.5555555555555556,
              "#d8576b"
             ],
             [
              0.6666666666666666,
              "#ed7953"
             ],
             [
              0.7777777777777778,
              "#fb9f3a"
             ],
             [
              0.8888888888888888,
              "#fdca26"
             ],
             [
              1,
              "#f0f921"
             ]
            ],
            "type": "contour"
           }
          ],
          "contourcarpet": [
           {
            "colorbar": {
             "outlinewidth": 0,
             "ticks": ""
            },
            "type": "contourcarpet"
           }
          ],
          "heatmap": [
           {
            "colorbar": {
             "outlinewidth": 0,
             "ticks": ""
            },
            "colorscale": [
             [
              0,
              "#0d0887"
             ],
             [
              0.1111111111111111,
              "#46039f"
             ],
             [
              0.2222222222222222,
              "#7201a8"
             ],
             [
              0.3333333333333333,
              "#9c179e"
             ],
             [
              0.4444444444444444,
              "#bd3786"
             ],
             [
              0.5555555555555556,
              "#d8576b"
             ],
             [
              0.6666666666666666,
              "#ed7953"
             ],
             [
              0.7777777777777778,
              "#fb9f3a"
             ],
             [
              0.8888888888888888,
              "#fdca26"
             ],
             [
              1,
              "#f0f921"
             ]
            ],
            "type": "heatmap"
           }
          ],
          "histogram": [
           {
            "marker": {
             "pattern": {
              "fillmode": "overlay",
              "size": 10,
              "solidity": 0.2
             }
            },
            "type": "histogram"
           }
          ],
          "histogram2d": [
           {
            "colorbar": {
             "outlinewidth": 0,
             "ticks": ""
            },
            "colorscale": [
             [
              0,
              "#0d0887"
             ],
             [
              0.1111111111111111,
              "#46039f"
             ],
             [
              0.2222222222222222,
              "#7201a8"
             ],
             [
              0.3333333333333333,
              "#9c179e"
             ],
             [
              0.4444444444444444,
              "#bd3786"
             ],
             [
              0.5555555555555556,
              "#d8576b"
             ],
             [
              0.6666666666666666,
              "#ed7953"
             ],
             [
              0.7777777777777778,
              "#fb9f3a"
             ],
             [
              0.8888888888888888,
              "#fdca26"
             ],
             [
              1,
              "#f0f921"
             ]
            ],
            "type": "histogram2d"
           }
          ],
          "histogram2dcontour": [
           {
            "colorbar": {
             "outlinewidth": 0,
             "ticks": ""
            },
            "colorscale": [
             [
              0,
              "#0d0887"
             ],
             [
              0.1111111111111111,
              "#46039f"
             ],
             [
              0.2222222222222222,
              "#7201a8"
             ],
             [
              0.3333333333333333,
              "#9c179e"
             ],
             [
              0.4444444444444444,
              "#bd3786"
             ],
             [
              0.5555555555555556,
              "#d8576b"
             ],
             [
              0.6666666666666666,
              "#ed7953"
             ],
             [
              0.7777777777777778,
              "#fb9f3a"
             ],
             [
              0.8888888888888888,
              "#fdca26"
             ],
             [
              1,
              "#f0f921"
             ]
            ],
            "type": "histogram2dcontour"
           }
          ],
          "mesh3d": [
           {
            "colorbar": {
             "outlinewidth": 0,
             "ticks": ""
            },
            "type": "mesh3d"
           }
          ],
          "parcoords": [
           {
            "line": {
             "colorbar": {
              "outlinewidth": 0,
              "ticks": ""
             }
            },
            "type": "parcoords"
           }
          ],
          "pie": [
           {
            "automargin": true,
            "type": "pie"
           }
          ],
          "scatter": [
           {
            "fillpattern": {
             "fillmode": "overlay",
             "size": 10,
             "solidity": 0.2
            },
            "type": "scatter"
           }
          ],
          "scatter3d": [
           {
            "line": {
             "colorbar": {
              "outlinewidth": 0,
              "ticks": ""
             }
            },
            "marker": {
             "colorbar": {
              "outlinewidth": 0,
              "ticks": ""
             }
            },
            "type": "scatter3d"
           }
          ],
          "scattercarpet": [
           {
            "marker": {
             "colorbar": {
              "outlinewidth": 0,
              "ticks": ""
             }
            },
            "type": "scattercarpet"
           }
          ],
          "scattergeo": [
           {
            "marker": {
             "colorbar": {
              "outlinewidth": 0,
              "ticks": ""
             }
            },
            "type": "scattergeo"
           }
          ],
          "scattergl": [
           {
            "marker": {
             "colorbar": {
              "outlinewidth": 0,
              "ticks": ""
             }
            },
            "type": "scattergl"
           }
          ],
          "scattermap": [
           {
            "marker": {
             "colorbar": {
              "outlinewidth": 0,
              "ticks": ""
             }
            },
            "type": "scattermap"
           }
          ],
          "scattermapbox": [
           {
            "marker": {
             "colorbar": {
              "outlinewidth": 0,
              "ticks": ""
             }
            },
            "type": "scattermapbox"
           }
          ],
          "scatterpolar": [
           {
            "marker": {
             "colorbar": {
              "outlinewidth": 0,
              "ticks": ""
             }
            },
            "type": "scatterpolar"
           }
          ],
          "scatterpolargl": [
           {
            "marker": {
             "colorbar": {
              "outlinewidth": 0,
              "ticks": ""
             }
            },
            "type": "scatterpolargl"
           }
          ],
          "scatterternary": [
           {
            "marker": {
             "colorbar": {
              "outlinewidth": 0,
              "ticks": ""
             }
            },
            "type": "scatterternary"
           }
          ],
          "surface": [
           {
            "colorbar": {
             "outlinewidth": 0,
             "ticks": ""
            },
            "colorscale": [
             [
              0,
              "#0d0887"
             ],
             [
              0.1111111111111111,
              "#46039f"
             ],
             [
              0.2222222222222222,
              "#7201a8"
             ],
             [
              0.3333333333333333,
              "#9c179e"
             ],
             [
              0.4444444444444444,
              "#bd3786"
             ],
             [
              0.5555555555555556,
              "#d8576b"
             ],
             [
              0.6666666666666666,
              "#ed7953"
             ],
             [
              0.7777777777777778,
              "#fb9f3a"
             ],
             [
              0.8888888888888888,
              "#fdca26"
             ],
             [
              1,
              "#f0f921"
             ]
            ],
            "type": "surface"
           }
          ],
          "table": [
           {
            "cells": {
             "fill": {
              "color": "#EBF0F8"
             },
             "line": {
              "color": "white"
             }
            },
            "header": {
             "fill": {
              "color": "#C8D4E3"
             },
             "line": {
              "color": "white"
             }
            },
            "type": "table"
           }
          ]
         },
         "layout": {
          "annotationdefaults": {
           "arrowcolor": "#2a3f5f",
           "arrowhead": 0,
           "arrowwidth": 1
          },
          "autotypenumbers": "strict",
          "coloraxis": {
           "colorbar": {
            "outlinewidth": 0,
            "ticks": ""
           }
          },
          "colorscale": {
           "diverging": [
            [
             0,
             "#8e0152"
            ],
            [
             0.1,
             "#c51b7d"
            ],
            [
             0.2,
             "#de77ae"
            ],
            [
             0.3,
             "#f1b6da"
            ],
            [
             0.4,
             "#fde0ef"
            ],
            [
             0.5,
             "#f7f7f7"
            ],
            [
             0.6,
             "#e6f5d0"
            ],
            [
             0.7,
             "#b8e186"
            ],
            [
             0.8,
             "#7fbc41"
            ],
            [
             0.9,
             "#4d9221"
            ],
            [
             1,
             "#276419"
            ]
           ],
           "sequential": [
            [
             0,
             "#0d0887"
            ],
            [
             0.1111111111111111,
             "#46039f"
            ],
            [
             0.2222222222222222,
             "#7201a8"
            ],
            [
             0.3333333333333333,
             "#9c179e"
            ],
            [
             0.4444444444444444,
             "#bd3786"
            ],
            [
             0.5555555555555556,
             "#d8576b"
            ],
            [
             0.6666666666666666,
             "#ed7953"
            ],
            [
             0.7777777777777778,
             "#fb9f3a"
            ],
            [
             0.8888888888888888,
             "#fdca26"
            ],
            [
             1,
             "#f0f921"
            ]
           ],
           "sequentialminus": [
            [
             0,
             "#0d0887"
            ],
            [
             0.1111111111111111,
             "#46039f"
            ],
            [
             0.2222222222222222,
             "#7201a8"
            ],
            [
             0.3333333333333333,
             "#9c179e"
            ],
            [
             0.4444444444444444,
             "#bd3786"
            ],
            [
             0.5555555555555556,
             "#d8576b"
            ],
            [
             0.6666666666666666,
             "#ed7953"
            ],
            [
             0.7777777777777778,
             "#fb9f3a"
            ],
            [
             0.8888888888888888,
             "#fdca26"
            ],
            [
             1,
             "#f0f921"
            ]
           ]
          },
          "colorway": [
           "#636efa",
           "#EF553B",
           "#00cc96",
           "#ab63fa",
           "#FFA15A",
           "#19d3f3",
           "#FF6692",
           "#B6E880",
           "#FF97FF",
           "#FECB52"
          ],
          "font": {
           "color": "#2a3f5f"
          },
          "geo": {
           "bgcolor": "white",
           "lakecolor": "white",
           "landcolor": "#E5ECF6",
           "showlakes": true,
           "showland": true,
           "subunitcolor": "white"
          },
          "hoverlabel": {
           "align": "left"
          },
          "hovermode": "closest",
          "mapbox": {
           "style": "light"
          },
          "paper_bgcolor": "white",
          "plot_bgcolor": "#E5ECF6",
          "polar": {
           "angularaxis": {
            "gridcolor": "white",
            "linecolor": "white",
            "ticks": ""
           },
           "bgcolor": "#E5ECF6",
           "radialaxis": {
            "gridcolor": "white",
            "linecolor": "white",
            "ticks": ""
           }
          },
          "scene": {
           "xaxis": {
            "backgroundcolor": "#E5ECF6",
            "gridcolor": "white",
            "gridwidth": 2,
            "linecolor": "white",
            "showbackground": true,
            "ticks": "",
            "zerolinecolor": "white"
           },
           "yaxis": {
            "backgroundcolor": "#E5ECF6",
            "gridcolor": "white",
            "gridwidth": 2,
            "linecolor": "white",
            "showbackground": true,
            "ticks": "",
            "zerolinecolor": "white"
           },
           "zaxis": {
            "backgroundcolor": "#E5ECF6",
            "gridcolor": "white",
            "gridwidth": 2,
            "linecolor": "white",
            "showbackground": true,
            "ticks": "",
            "zerolinecolor": "white"
           }
          },
          "shapedefaults": {
           "line": {
            "color": "#2a3f5f"
           }
          },
          "ternary": {
           "aaxis": {
            "gridcolor": "white",
            "linecolor": "white",
            "ticks": ""
           },
           "baxis": {
            "gridcolor": "white",
            "linecolor": "white",
            "ticks": ""
           },
           "bgcolor": "#E5ECF6",
           "caxis": {
            "gridcolor": "white",
            "linecolor": "white",
            "ticks": ""
           }
          },
          "title": {
           "x": 0.05
          },
          "xaxis": {
           "automargin": true,
           "gridcolor": "white",
           "linecolor": "white",
           "ticks": "",
           "title": {
            "standoff": 15
           },
           "zerolinecolor": "white",
           "zerolinewidth": 2
          },
          "yaxis": {
           "automargin": true,
           "gridcolor": "white",
           "linecolor": "white",
           "ticks": "",
           "title": {
            "standoff": 15
           },
           "zerolinecolor": "white",
           "zerolinewidth": 2
          }
         }
        },
        "title": {
         "text": "Distribution of Total Loan Amounts Across Different Regions"
        }
       }
      }
     },
     "metadata": {},
     "output_type": "display_data"
    },
    {
     "name": "stdout",
     "output_type": "stream",
     "text": [
      "Total Loan Amount: 1253755964\n"
     ]
    }
   ],
   "source": [
    "# Calculate total loan amount\n",
    "total_loan_amount = df['loan_amt'].sum()\n",
    "\n",
    "# Calculate distribution of total loan amounts across different regions\n",
    "loan_amount_by_region = df.groupby('region')['loan_amt'].sum().reset_index()\n",
    "\n",
    "# Calculate percentage of total loan amount for each region\n",
    "loan_amount_by_region['loan_amt_percent'] = loan_amount_by_region['loan_amt'] / total_loan_amount * 100\n",
    "\n",
    "# Plotting pie chart with percentages using Plotly\n",
    "fig = px.pie(loan_amount_by_region, values='loan_amt', names='region', title='Distribution of Total Loan Amounts Across Different Regions')\n",
    "fig.update_traces(textposition='inside', textinfo='percent+label')\n",
    "fig.show()\n",
    "\n",
    "print(\"Total Loan Amount:\", total_loan_amount)"
   ]
  },
  {
   "cell_type": "markdown",
   "id": "d9872371",
   "metadata": {},
   "source": [
    "**Q8. Number Of Customers And Average Loan Amount By Sales Manager**"
   ]
  },
  {
   "cell_type": "code",
   "execution_count": 26,
   "id": "324e22c9",
   "metadata": {},
   "outputs": [
    {
     "name": "stdout",
     "output_type": "stream",
     "text": [
      "\n",
      "Sales Manager Summary:\n",
      "                 customer      loan_amt\n",
      "sales_manager                          \n",
      "Aarav Sharma          237  73657.118143\n",
      "Aditya Shah           478  66808.910042\n",
      "Ajay Singh            162  70510.080247\n",
      "Ananya Gupta          294  67090.996599\n",
      "Anjali Desai          167  73089.574850\n",
      "Ankit Kapoor            1  77902.000000\n",
      "Arjun Kapoor          162  66801.753086\n",
      "Arvind Desai           58  82882.241379\n",
      "Ayesha Khan           278  73835.007194\n",
      "Deepak Patel          427  71735.742389\n",
      "Divya Malhotra        137  72265.970803\n",
      "Karan Singh            15  59356.666667\n",
      "Kavita Reddy          310  67440.122581\n",
      "Kritika Singh           2  65229.500000\n",
      "Manoj Kumar             2  77000.000000\n",
      "Maya Verma             98  75861.051020\n",
      "Natasha Singh           1  58000.000000\n",
      "Neha Gupta            265  68806.532075\n",
      "Nisha Verma            72  73927.652778\n",
      "Pooja Malhotra        274  69315.627737\n",
      "Poonam Shah            46  79541.500000\n",
      "Pradeep Patel           8  68600.000000\n",
      "Prakash Reddy          74  62760.135135\n",
      "Priya Patel           461  76852.863341\n",
      "Priyanka Sharma        48  69340.625000\n",
      "Rahul Gupta             1  28000.000000\n",
      "Rajesh Tiwari         268  67612.305970\n",
      "Rakesh Kumar        10175  75252.975823\n",
      "Riya Kapoor             7  72790.571429\n",
      "Rohan Mehta           381  68517.908136\n",
      "Rohit Reddy           421  76293.961995\n",
      "Sameer Desai          559  73174.261181\n",
      "Shreya Gupta          111  70419.684685\n",
      "Sneha Patel             7  61770.000000\n",
      "Sunita Sharma          55  61815.672727\n",
      "Swati Sharma           52  76772.884615\n",
      "Tanvi Shah             85  72588.223529\n",
      "Vikas Tiwari           30  66021.500000\n",
      "Vikram Singh          623  74536.841091\n",
      "Vivek Verma           146  73973.595890\n"
     ]
    }
   ],
   "source": [
    "# Group by sales manager and calculate number of customers and average loan amount\n",
    "sales_manager__summary = df.groupby('sales_manager').agg({'customer':'count', 'loan_amt': 'mean'})\n",
    "\n",
    "print(\"\\nSales Manager Summary:\")\n",
    "print(sales_manager__summary)"
   ]
  },
  {
   "cell_type": "markdown",
   "id": "bf1b216a",
   "metadata": {},
   "source": [
    "**Q9. What are the total sales, total number of customers, total number of sales manager, and total number of dealers in our dataset?**"
   ]
  },
  {
   "cell_type": "code",
   "execution_count": 27,
   "id": "34db83cc",
   "metadata": {},
   "outputs": [
    {
     "name": "stdout",
     "output_type": "stream",
     "text": [
      "Total Sales: 1253755964\n",
      "Total Number of Customers: 9765\n",
      "Total Number of Dealers: 691\n",
      "Total Number of Sales Managers: 40\n"
     ]
    }
   ],
   "source": [
    "# Calculate total sales\n",
    "total_sales = df['loan_amt'].sum()\n",
    "\n",
    "# Calculate total number of customers\n",
    "total_customers = df['customer'].nunique()\n",
    "\n",
    "# Calculate total number of dealers\n",
    "total_dealers = df['dealer'].nunique()\n",
    "\n",
    "# Calculate total number of sales managers\n",
    "total_sales_managers = df['sales_manager'].nunique()\n",
    "\n",
    "print(\"Total Sales:\", total_sales)\n",
    "print(\"Total Number of Customers:\", total_customers)\n",
    "print(\"Total Number of Dealers:\", total_dealers)\n",
    "print(\"Total Number of Sales Managers:\", total_sales_managers)"
   ]
  },
  {
   "cell_type": "markdown",
   "id": "e03fd405",
   "metadata": {},
   "source": [
    "**Q10. Top 10 Sales Manager by loan amount, by Sales Rep and by Dealer.**"
   ]
  },
  {
   "cell_type": "code",
   "execution_count": 28,
   "id": "8e20239f",
   "metadata": {},
   "outputs": [
    {
     "name": "stdout",
     "output_type": "stream",
     "text": [
      "Top 10 Sales Managers by Loan Amount:\n",
      "sales_manager\n",
      "Rakesh Kumar    765699029\n",
      "Vikram Singh     46436452\n",
      "Sameer Desai     40904412\n",
      "Priya Patel      35429170\n",
      "Rohit Reddy      32119758\n",
      "Aditya Shah      31934659\n",
      "Deepak Patel     30631162\n",
      "Rohan Mehta      26105323\n",
      "Kavita Reddy     20906438\n",
      "Ayesha Khan      20526132\n",
      "Name: loan_amt, dtype: int64\n",
      "\n",
      "Top 10 Sales Reps by Loan Amount:\n",
      "sales_rep\n",
      "Trisha Rao        659555894\n",
      "Aditya Kapoor       8461431\n",
      "Esha Reddy          8389790\n",
      "Vedant Iyengar      8144051\n",
      "Eesha Reddy         7567985\n",
      "Zara Chawla         7238622\n",
      "Laksh Gupta         6726685\n",
      "Meher Patel         6602851\n",
      "Falguni Reddy       6285000\n",
      "Shiv Sharma         5694402\n",
      "Name: loan_amt, dtype: int64\n",
      "\n",
      "Top 10 Dealers by Loan Amount:\n",
      "dealer\n",
      "Car Trust Connect        47853041\n",
      "Velocity Equity Mart     34583757\n",
      "salman s i               22153645\n",
      "salman s n               18880885\n",
      "Prime Trust Lending      18847892\n",
      "Liberty Drive            16049245\n",
      "Supreme Drive Group      15049136\n",
      "Drive Advance Mart       14373486\n",
      "Prime Speed Solutions    14015782\n",
      "omkar C i                13718283\n",
      "Name: loan_amt, dtype: int64\n"
     ]
    }
   ],
   "source": [
    "# Top 10 Sales Managers by loan amount\n",
    "top_sales_managers_loan_amount = df.groupby('sales_manager')['loan_amt'].sum().nlargest(10)\n",
    "\n",
    "# Top 10 Sales Reps by loan amount\n",
    "top_sales_reps_loan_amount = df.groupby('sales_rep')['loan_amt'].sum().nlargest(10)\n",
    "\n",
    "# Top 10 Dealers by loan amount\n",
    "top_dealers_loan_amount = df.groupby('dealer')['loan_amt'].sum().nlargest(10)\n",
    "\n",
    "print(\"Top 10 Sales Managers by Loan Amount:\")\n",
    "print(top_sales_managers_loan_amount)\n",
    "print(\"\\nTop 10 Sales Reps by Loan Amount:\")\n",
    "print(top_sales_reps_loan_amount)\n",
    "print(\"\\nTop 10 Dealers by Loan Amount:\")\n",
    "print(top_dealers_loan_amount)"
   ]
  },
  {
   "cell_type": "markdown",
   "id": "697d72a7",
   "metadata": {},
   "source": [
    "**Q11. Number of Customer By region for Rakesh Kumar**"
   ]
  },
  {
   "cell_type": "code",
   "execution_count": 29,
   "id": "898fa8e8",
   "metadata": {},
   "outputs": [
    {
     "data": {
      "application/vnd.microsoft.datawrangler.viewer.v0+json": {
       "columns": [
        {
         "name": "index",
         "rawType": "int64",
         "type": "integer"
        },
        {
         "name": "customer",
         "rawType": "object",
         "type": "string"
        },
        {
         "name": "agreement_no",
         "rawType": "object",
         "type": "string"
        },
        {
         "name": "app_id",
         "rawType": "int64",
         "type": "integer"
        },
        {
         "name": "city",
         "rawType": "object",
         "type": "string"
        },
        {
         "name": "region",
         "rawType": "object",
         "type": "string"
        },
        {
         "name": "roi",
         "rawType": "float64",
         "type": "float"
        },
        {
         "name": "dealer",
         "rawType": "object",
         "type": "string"
        },
        {
         "name": "tenure",
         "rawType": "int64",
         "type": "integer"
        },
        {
         "name": "disb_amount",
         "rawType": "int64",
         "type": "integer"
        },
        {
         "name": "scheme_code",
         "rawType": "object",
         "type": "string"
        },
        {
         "name": "remarks",
         "rawType": "object",
         "type": "string"
        },
        {
         "name": "loan_amt",
         "rawType": "int64",
         "type": "integer"
        },
        {
         "name": "disb_var",
         "rawType": "int64",
         "type": "integer"
        },
        {
         "name": "sales_rep",
         "rawType": "object",
         "type": "string"
        },
        {
         "name": "sales_manager",
         "rawType": "object",
         "type": "string"
        },
        {
         "name": "dt_loan",
         "rawType": "object",
         "type": "string"
        }
       ],
       "ref": "ae8e8788-0813-4929-b923-833331b9e4b3",
       "rows": [
        [
         "0",
         "Chandranagraaj Vasamsetti",
         "TL011",
         "12198",
         "Hyderabad",
         "Telangana",
         "11.99",
         "Velocity Motors",
         "30",
         "74090",
         "41",
         "No Remark",
         "75000",
         "910",
         "Aarav Malhotra",
         "Aarav Sharma",
         "2023-08-23"
        ],
        [
         "1",
         "Swapnil Nana Lande",
         "TL012",
         "12204",
         "Hyderabad",
         "Telangana",
         "11.99",
         "Auto Avenue",
         "30",
         "61790",
         "41",
         "No Remark",
         "62700",
         "910",
         "Aarav Malhotra",
         "Aarav Sharma",
         "2020-10-27"
        ],
        [
         "2",
         "Syeda Meraj Unnisa",
         "TL013",
         "12356",
         "Hyderabad",
         "Telangana",
         "11.99",
         "Velocity Motors",
         "18",
         "73590",
         "41",
         "No Remark",
         "74500",
         "910",
         "Advika Chatterjee",
         "Aarav Sharma",
         "2021-02-27"
        ]
       ],
       "shape": {
        "columns": 16,
        "rows": 3
       }
      },
      "text/html": [
       "<div>\n",
       "<style scoped>\n",
       "    .dataframe tbody tr th:only-of-type {\n",
       "        vertical-align: middle;\n",
       "    }\n",
       "\n",
       "    .dataframe tbody tr th {\n",
       "        vertical-align: top;\n",
       "    }\n",
       "\n",
       "    .dataframe thead th {\n",
       "        text-align: right;\n",
       "    }\n",
       "</style>\n",
       "<table border=\"1\" class=\"dataframe\">\n",
       "  <thead>\n",
       "    <tr style=\"text-align: right;\">\n",
       "      <th></th>\n",
       "      <th>customer</th>\n",
       "      <th>agreement_no</th>\n",
       "      <th>app_id</th>\n",
       "      <th>city</th>\n",
       "      <th>region</th>\n",
       "      <th>roi</th>\n",
       "      <th>dealer</th>\n",
       "      <th>tenure</th>\n",
       "      <th>disb_amount</th>\n",
       "      <th>scheme_code</th>\n",
       "      <th>remarks</th>\n",
       "      <th>loan_amt</th>\n",
       "      <th>disb_var</th>\n",
       "      <th>sales_rep</th>\n",
       "      <th>sales_manager</th>\n",
       "      <th>dt_loan</th>\n",
       "    </tr>\n",
       "  </thead>\n",
       "  <tbody>\n",
       "    <tr>\n",
       "      <th>0</th>\n",
       "      <td>Chandranagraaj Vasamsetti</td>\n",
       "      <td>TL011</td>\n",
       "      <td>12198</td>\n",
       "      <td>Hyderabad</td>\n",
       "      <td>Telangana</td>\n",
       "      <td>11.99</td>\n",
       "      <td>Velocity Motors</td>\n",
       "      <td>30</td>\n",
       "      <td>74090</td>\n",
       "      <td>41</td>\n",
       "      <td>No Remark</td>\n",
       "      <td>75000</td>\n",
       "      <td>910</td>\n",
       "      <td>Aarav Malhotra</td>\n",
       "      <td>Aarav Sharma</td>\n",
       "      <td>2023-08-23</td>\n",
       "    </tr>\n",
       "    <tr>\n",
       "      <th>1</th>\n",
       "      <td>Swapnil Nana Lande</td>\n",
       "      <td>TL012</td>\n",
       "      <td>12204</td>\n",
       "      <td>Hyderabad</td>\n",
       "      <td>Telangana</td>\n",
       "      <td>11.99</td>\n",
       "      <td>Auto Avenue</td>\n",
       "      <td>30</td>\n",
       "      <td>61790</td>\n",
       "      <td>41</td>\n",
       "      <td>No Remark</td>\n",
       "      <td>62700</td>\n",
       "      <td>910</td>\n",
       "      <td>Aarav Malhotra</td>\n",
       "      <td>Aarav Sharma</td>\n",
       "      <td>2020-10-27</td>\n",
       "    </tr>\n",
       "    <tr>\n",
       "      <th>2</th>\n",
       "      <td>Syeda Meraj Unnisa</td>\n",
       "      <td>TL013</td>\n",
       "      <td>12356</td>\n",
       "      <td>Hyderabad</td>\n",
       "      <td>Telangana</td>\n",
       "      <td>11.99</td>\n",
       "      <td>Velocity Motors</td>\n",
       "      <td>18</td>\n",
       "      <td>73590</td>\n",
       "      <td>41</td>\n",
       "      <td>No Remark</td>\n",
       "      <td>74500</td>\n",
       "      <td>910</td>\n",
       "      <td>Advika Chatterjee</td>\n",
       "      <td>Aarav Sharma</td>\n",
       "      <td>2021-02-27</td>\n",
       "    </tr>\n",
       "  </tbody>\n",
       "</table>\n",
       "</div>"
      ],
      "text/plain": [
       "                    customer agreement_no  app_id       city     region  \\\n",
       "0  Chandranagraaj Vasamsetti        TL011   12198  Hyderabad  Telangana   \n",
       "1         Swapnil Nana Lande        TL012   12204  Hyderabad  Telangana   \n",
       "2         Syeda Meraj Unnisa        TL013   12356  Hyderabad  Telangana   \n",
       "\n",
       "     roi           dealer  tenure  disb_amount scheme_code    remarks  \\\n",
       "0  11.99  Velocity Motors      30        74090          41  No Remark   \n",
       "1  11.99      Auto Avenue      30        61790          41  No Remark   \n",
       "2  11.99  Velocity Motors      18        73590          41  No Remark   \n",
       "\n",
       "   loan_amt  disb_var          sales_rep sales_manager     dt_loan  \n",
       "0     75000       910     Aarav Malhotra  Aarav Sharma  2023-08-23  \n",
       "1     62700       910     Aarav Malhotra  Aarav Sharma  2020-10-27  \n",
       "2     74500       910  Advika Chatterjee  Aarav Sharma  2021-02-27  "
      ]
     },
     "execution_count": 29,
     "metadata": {},
     "output_type": "execute_result"
    }
   ],
   "source": [
    "df.head(3)"
   ]
  },
  {
   "cell_type": "code",
   "execution_count": 32,
   "id": "317f612a",
   "metadata": {},
   "outputs": [],
   "source": [
    "Rakesh_details = df[df['sales_manager'] == 'Rakesh Kumar']"
   ]
  },
  {
   "cell_type": "code",
   "execution_count": 34,
   "id": "9b919d8d",
   "metadata": {},
   "outputs": [
    {
     "name": "stdout",
     "output_type": "stream",
     "text": [
      "\n",
      "Customer Distribution by Region for Rakesh Kumar:\n",
      "      region  customer\n",
      "0    Gujarat      2175\n",
      "1  Karnataka      2369\n",
      "2     Mumbai      2460\n",
      "3        Rom      2594\n",
      "4  Telangana       577\n"
     ]
    }
   ],
   "source": [
    "customer_by_region = Rakesh_details.groupby('region')['customer'].count().reset_index()\n",
    "print(\"\\nCustomer Distribution by Region for Rakesh Kumar:\")\n",
    "print(customer_by_region)"
   ]
  },
  {
   "cell_type": "code",
   "execution_count": 36,
   "id": "feff9003",
   "metadata": {},
   "outputs": [
    {
     "data": {
      "application/vnd.plotly.v1+json": {
       "config": {
        "plotlyServerURL": "https://plot.ly"
       },
       "data": [
        {
         "hovertemplate": "region=%{x}<br>customer=%{y}<extra></extra>",
         "legendgroup": "",
         "marker": {
          "color": "#636efa",
          "pattern": {
           "shape": ""
          }
         },
         "name": "",
         "orientation": "v",
         "showlegend": false,
         "textposition": "auto",
         "type": "bar",
         "x": [
          "Gujarat",
          "Karnataka",
          "Mumbai",
          "Rom",
          "Telangana"
         ],
         "xaxis": "x",
         "y": {
          "bdata": "fwhBCZwJIgpBAg==",
          "dtype": "i2"
         },
         "yaxis": "y"
        }
       ],
       "layout": {
        "barmode": "relative",
        "legend": {
         "tracegroupgap": 0
        },
        "template": {
         "data": {
          "bar": [
           {
            "error_x": {
             "color": "#2a3f5f"
            },
            "error_y": {
             "color": "#2a3f5f"
            },
            "marker": {
             "line": {
              "color": "#E5ECF6",
              "width": 0.5
             },
             "pattern": {
              "fillmode": "overlay",
              "size": 10,
              "solidity": 0.2
             }
            },
            "type": "bar"
           }
          ],
          "barpolar": [
           {
            "marker": {
             "line": {
              "color": "#E5ECF6",
              "width": 0.5
             },
             "pattern": {
              "fillmode": "overlay",
              "size": 10,
              "solidity": 0.2
             }
            },
            "type": "barpolar"
           }
          ],
          "carpet": [
           {
            "aaxis": {
             "endlinecolor": "#2a3f5f",
             "gridcolor": "white",
             "linecolor": "white",
             "minorgridcolor": "white",
             "startlinecolor": "#2a3f5f"
            },
            "baxis": {
             "endlinecolor": "#2a3f5f",
             "gridcolor": "white",
             "linecolor": "white",
             "minorgridcolor": "white",
             "startlinecolor": "#2a3f5f"
            },
            "type": "carpet"
           }
          ],
          "choropleth": [
           {
            "colorbar": {
             "outlinewidth": 0,
             "ticks": ""
            },
            "type": "choropleth"
           }
          ],
          "contour": [
           {
            "colorbar": {
             "outlinewidth": 0,
             "ticks": ""
            },
            "colorscale": [
             [
              0,
              "#0d0887"
             ],
             [
              0.1111111111111111,
              "#46039f"
             ],
             [
              0.2222222222222222,
              "#7201a8"
             ],
             [
              0.3333333333333333,
              "#9c179e"
             ],
             [
              0.4444444444444444,
              "#bd3786"
             ],
             [
              0.5555555555555556,
              "#d8576b"
             ],
             [
              0.6666666666666666,
              "#ed7953"
             ],
             [
              0.7777777777777778,
              "#fb9f3a"
             ],
             [
              0.8888888888888888,
              "#fdca26"
             ],
             [
              1,
              "#f0f921"
             ]
            ],
            "type": "contour"
           }
          ],
          "contourcarpet": [
           {
            "colorbar": {
             "outlinewidth": 0,
             "ticks": ""
            },
            "type": "contourcarpet"
           }
          ],
          "heatmap": [
           {
            "colorbar": {
             "outlinewidth": 0,
             "ticks": ""
            },
            "colorscale": [
             [
              0,
              "#0d0887"
             ],
             [
              0.1111111111111111,
              "#46039f"
             ],
             [
              0.2222222222222222,
              "#7201a8"
             ],
             [
              0.3333333333333333,
              "#9c179e"
             ],
             [
              0.4444444444444444,
              "#bd3786"
             ],
             [
              0.5555555555555556,
              "#d8576b"
             ],
             [
              0.6666666666666666,
              "#ed7953"
             ],
             [
              0.7777777777777778,
              "#fb9f3a"
             ],
             [
              0.8888888888888888,
              "#fdca26"
             ],
             [
              1,
              "#f0f921"
             ]
            ],
            "type": "heatmap"
           }
          ],
          "histogram": [
           {
            "marker": {
             "pattern": {
              "fillmode": "overlay",
              "size": 10,
              "solidity": 0.2
             }
            },
            "type": "histogram"
           }
          ],
          "histogram2d": [
           {
            "colorbar": {
             "outlinewidth": 0,
             "ticks": ""
            },
            "colorscale": [
             [
              0,
              "#0d0887"
             ],
             [
              0.1111111111111111,
              "#46039f"
             ],
             [
              0.2222222222222222,
              "#7201a8"
             ],
             [
              0.3333333333333333,
              "#9c179e"
             ],
             [
              0.4444444444444444,
              "#bd3786"
             ],
             [
              0.5555555555555556,
              "#d8576b"
             ],
             [
              0.6666666666666666,
              "#ed7953"
             ],
             [
              0.7777777777777778,
              "#fb9f3a"
             ],
             [
              0.8888888888888888,
              "#fdca26"
             ],
             [
              1,
              "#f0f921"
             ]
            ],
            "type": "histogram2d"
           }
          ],
          "histogram2dcontour": [
           {
            "colorbar": {
             "outlinewidth": 0,
             "ticks": ""
            },
            "colorscale": [
             [
              0,
              "#0d0887"
             ],
             [
              0.1111111111111111,
              "#46039f"
             ],
             [
              0.2222222222222222,
              "#7201a8"
             ],
             [
              0.3333333333333333,
              "#9c179e"
             ],
             [
              0.4444444444444444,
              "#bd3786"
             ],
             [
              0.5555555555555556,
              "#d8576b"
             ],
             [
              0.6666666666666666,
              "#ed7953"
             ],
             [
              0.7777777777777778,
              "#fb9f3a"
             ],
             [
              0.8888888888888888,
              "#fdca26"
             ],
             [
              1,
              "#f0f921"
             ]
            ],
            "type": "histogram2dcontour"
           }
          ],
          "mesh3d": [
           {
            "colorbar": {
             "outlinewidth": 0,
             "ticks": ""
            },
            "type": "mesh3d"
           }
          ],
          "parcoords": [
           {
            "line": {
             "colorbar": {
              "outlinewidth": 0,
              "ticks": ""
             }
            },
            "type": "parcoords"
           }
          ],
          "pie": [
           {
            "automargin": true,
            "type": "pie"
           }
          ],
          "scatter": [
           {
            "fillpattern": {
             "fillmode": "overlay",
             "size": 10,
             "solidity": 0.2
            },
            "type": "scatter"
           }
          ],
          "scatter3d": [
           {
            "line": {
             "colorbar": {
              "outlinewidth": 0,
              "ticks": ""
             }
            },
            "marker": {
             "colorbar": {
              "outlinewidth": 0,
              "ticks": ""
             }
            },
            "type": "scatter3d"
           }
          ],
          "scattercarpet": [
           {
            "marker": {
             "colorbar": {
              "outlinewidth": 0,
              "ticks": ""
             }
            },
            "type": "scattercarpet"
           }
          ],
          "scattergeo": [
           {
            "marker": {
             "colorbar": {
              "outlinewidth": 0,
              "ticks": ""
             }
            },
            "type": "scattergeo"
           }
          ],
          "scattergl": [
           {
            "marker": {
             "colorbar": {
              "outlinewidth": 0,
              "ticks": ""
             }
            },
            "type": "scattergl"
           }
          ],
          "scattermap": [
           {
            "marker": {
             "colorbar": {
              "outlinewidth": 0,
              "ticks": ""
             }
            },
            "type": "scattermap"
           }
          ],
          "scattermapbox": [
           {
            "marker": {
             "colorbar": {
              "outlinewidth": 0,
              "ticks": ""
             }
            },
            "type": "scattermapbox"
           }
          ],
          "scatterpolar": [
           {
            "marker": {
             "colorbar": {
              "outlinewidth": 0,
              "ticks": ""
             }
            },
            "type": "scatterpolar"
           }
          ],
          "scatterpolargl": [
           {
            "marker": {
             "colorbar": {
              "outlinewidth": 0,
              "ticks": ""
             }
            },
            "type": "scatterpolargl"
           }
          ],
          "scatterternary": [
           {
            "marker": {
             "colorbar": {
              "outlinewidth": 0,
              "ticks": ""
             }
            },
            "type": "scatterternary"
           }
          ],
          "surface": [
           {
            "colorbar": {
             "outlinewidth": 0,
             "ticks": ""
            },
            "colorscale": [
             [
              0,
              "#0d0887"
             ],
             [
              0.1111111111111111,
              "#46039f"
             ],
             [
              0.2222222222222222,
              "#7201a8"
             ],
             [
              0.3333333333333333,
              "#9c179e"
             ],
             [
              0.4444444444444444,
              "#bd3786"
             ],
             [
              0.5555555555555556,
              "#d8576b"
             ],
             [
              0.6666666666666666,
              "#ed7953"
             ],
             [
              0.7777777777777778,
              "#fb9f3a"
             ],
             [
              0.8888888888888888,
              "#fdca26"
             ],
             [
              1,
              "#f0f921"
             ]
            ],
            "type": "surface"
           }
          ],
          "table": [
           {
            "cells": {
             "fill": {
              "color": "#EBF0F8"
             },
             "line": {
              "color": "white"
             }
            },
            "header": {
             "fill": {
              "color": "#C8D4E3"
             },
             "line": {
              "color": "white"
             }
            },
            "type": "table"
           }
          ]
         },
         "layout": {
          "annotationdefaults": {
           "arrowcolor": "#2a3f5f",
           "arrowhead": 0,
           "arrowwidth": 1
          },
          "autotypenumbers": "strict",
          "coloraxis": {
           "colorbar": {
            "outlinewidth": 0,
            "ticks": ""
           }
          },
          "colorscale": {
           "diverging": [
            [
             0,
             "#8e0152"
            ],
            [
             0.1,
             "#c51b7d"
            ],
            [
             0.2,
             "#de77ae"
            ],
            [
             0.3,
             "#f1b6da"
            ],
            [
             0.4,
             "#fde0ef"
            ],
            [
             0.5,
             "#f7f7f7"
            ],
            [
             0.6,
             "#e6f5d0"
            ],
            [
             0.7,
             "#b8e186"
            ],
            [
             0.8,
             "#7fbc41"
            ],
            [
             0.9,
             "#4d9221"
            ],
            [
             1,
             "#276419"
            ]
           ],
           "sequential": [
            [
             0,
             "#0d0887"
            ],
            [
             0.1111111111111111,
             "#46039f"
            ],
            [
             0.2222222222222222,
             "#7201a8"
            ],
            [
             0.3333333333333333,
             "#9c179e"
            ],
            [
             0.4444444444444444,
             "#bd3786"
            ],
            [
             0.5555555555555556,
             "#d8576b"
            ],
            [
             0.6666666666666666,
             "#ed7953"
            ],
            [
             0.7777777777777778,
             "#fb9f3a"
            ],
            [
             0.8888888888888888,
             "#fdca26"
            ],
            [
             1,
             "#f0f921"
            ]
           ],
           "sequentialminus": [
            [
             0,
             "#0d0887"
            ],
            [
             0.1111111111111111,
             "#46039f"
            ],
            [
             0.2222222222222222,
             "#7201a8"
            ],
            [
             0.3333333333333333,
             "#9c179e"
            ],
            [
             0.4444444444444444,
             "#bd3786"
            ],
            [
             0.5555555555555556,
             "#d8576b"
            ],
            [
             0.6666666666666666,
             "#ed7953"
            ],
            [
             0.7777777777777778,
             "#fb9f3a"
            ],
            [
             0.8888888888888888,
             "#fdca26"
            ],
            [
             1,
             "#f0f921"
            ]
           ]
          },
          "colorway": [
           "#636efa",
           "#EF553B",
           "#00cc96",
           "#ab63fa",
           "#FFA15A",
           "#19d3f3",
           "#FF6692",
           "#B6E880",
           "#FF97FF",
           "#FECB52"
          ],
          "font": {
           "color": "#2a3f5f"
          },
          "geo": {
           "bgcolor": "white",
           "lakecolor": "white",
           "landcolor": "#E5ECF6",
           "showlakes": true,
           "showland": true,
           "subunitcolor": "white"
          },
          "hoverlabel": {
           "align": "left"
          },
          "hovermode": "closest",
          "mapbox": {
           "style": "light"
          },
          "paper_bgcolor": "white",
          "plot_bgcolor": "#E5ECF6",
          "polar": {
           "angularaxis": {
            "gridcolor": "white",
            "linecolor": "white",
            "ticks": ""
           },
           "bgcolor": "#E5ECF6",
           "radialaxis": {
            "gridcolor": "white",
            "linecolor": "white",
            "ticks": ""
           }
          },
          "scene": {
           "xaxis": {
            "backgroundcolor": "#E5ECF6",
            "gridcolor": "white",
            "gridwidth": 2,
            "linecolor": "white",
            "showbackground": true,
            "ticks": "",
            "zerolinecolor": "white"
           },
           "yaxis": {
            "backgroundcolor": "#E5ECF6",
            "gridcolor": "white",
            "gridwidth": 2,
            "linecolor": "white",
            "showbackground": true,
            "ticks": "",
            "zerolinecolor": "white"
           },
           "zaxis": {
            "backgroundcolor": "#E5ECF6",
            "gridcolor": "white",
            "gridwidth": 2,
            "linecolor": "white",
            "showbackground": true,
            "ticks": "",
            "zerolinecolor": "white"
           }
          },
          "shapedefaults": {
           "line": {
            "color": "#2a3f5f"
           }
          },
          "ternary": {
           "aaxis": {
            "gridcolor": "white",
            "linecolor": "white",
            "ticks": ""
           },
           "baxis": {
            "gridcolor": "white",
            "linecolor": "white",
            "ticks": ""
           },
           "bgcolor": "#E5ECF6",
           "caxis": {
            "gridcolor": "white",
            "linecolor": "white",
            "ticks": ""
           }
          },
          "title": {
           "x": 0.05
          },
          "xaxis": {
           "automargin": true,
           "gridcolor": "white",
           "linecolor": "white",
           "ticks": "",
           "title": {
            "standoff": 15
           },
           "zerolinecolor": "white",
           "zerolinewidth": 2
          },
          "yaxis": {
           "automargin": true,
           "gridcolor": "white",
           "linecolor": "white",
           "ticks": "",
           "title": {
            "standoff": 15
           },
           "zerolinecolor": "white",
           "zerolinewidth": 2
          }
         }
        },
        "title": {
         "text": "Customer Distribution by Region for Rakesh Kumar"
        },
        "xaxis": {
         "anchor": "y",
         "domain": [
          0,
          1
         ],
         "title": {
          "text": "Region"
         }
        },
        "yaxis": {
         "anchor": "x",
         "domain": [
          0,
          1
         ],
         "title": {
          "text": "Number of Customers"
         }
        }
       }
      }
     },
     "metadata": {},
     "output_type": "display_data"
    },
    {
     "data": {
      "text/plain": [
       "<Figure size 1000x600 with 0 Axes>"
      ]
     },
     "metadata": {},
     "output_type": "display_data"
    }
   ],
   "source": [
    "# Create bar chart using Plotly Express\n",
    "plt.figure(figsize=(10, 6))\n",
    "fig = px.bar(customer_by_region, x='region', y='customer', title='Customer Distribution by Region for Rakesh Kumar')\n",
    "fig.update_layout(xaxis_title='Region', yaxis_title='Number of Customers')\n",
    "fig.show()"
   ]
  },
  {
   "cell_type": "markdown",
   "id": "ecc79f6d",
   "metadata": {},
   "source": [
    "**Q12. Total Distributionn Amount by Dealer**"
   ]
  },
  {
   "cell_type": "code",
   "execution_count": 37,
   "id": "f8265061",
   "metadata": {},
   "outputs": [
    {
     "name": "stdout",
     "output_type": "stream",
     "text": [
      "\n",
      "Dealer Distribution by Total Disbursement Amount:\n",
      "              dealer  disb_amount\n",
      "0         Alpha Auto      3596832\n",
      "1       Alpha Motors       498910\n",
      "2          Apex Auto       169880\n",
      "3    Apex Auto Group       120630\n",
      "4    Apex Automotive       479340\n",
      "..               ...          ...\n",
      "686     shahrukh h F      3206300\n",
      "687     shahrukh h c       251520\n",
      "688     shahrukh h i        67640\n",
      "689     shahrukh h n      2798810\n",
      "690     shahrukh s i       701430\n",
      "\n",
      "[691 rows x 2 columns]\n"
     ]
    }
   ],
   "source": [
    "# Group by dealer and calculate total disbursement amount\n",
    "dealer_distribution = df.groupby('dealer')['disb_amount'].sum().reset_index()\n",
    "print(\"\\nDealer Distribution by Total Disbursement Amount:\")\n",
    "print(dealer_distribution)"
   ]
  },
  {
   "cell_type": "code",
   "execution_count": 43,
   "id": "2dfef222",
   "metadata": {},
   "outputs": [
    {
     "data": {
      "image/png": "[encoded data removed]",
      "text/plain": [
       "<Figure size 1000x600 with 1 Axes>"
      ]
     },
     "metadata": {},
     "output_type": "display_data"
    },
    {
     "data": {
      "application/vnd.plotly.v1+json": {
       "config": {
        "plotlyServerURL": "https://plot.ly"
       },
       "data": [
        {
         "hovertemplate": "dealer=%{x}<br>disb_amount=%{y}<extra></extra>",
         "legendgroup": "",
         "marker": {
          "color": "#636efa",
          "pattern": {
           "shape": ""
          }
         },
         "name": "",
         "orientation": "v",
         "showlegend": false,
         "textposition": "auto",
         "type": "bar",
         "x": [
          "Alpha Auto",
          "Alpha Motors",
          "Apex Auto",
          "Apex Auto Group",
          "Apex Automotive",
          "Apex Automotive Group",
          "Apex Drive",
          "Apex Drive Auto",
          "Apex Drive Auto Group",
          "Apex Drive Dealership",
          "Apex Drive Group",
          "Apex Drive Motors",
          "Apex Motors",
          "Apex Motors Group",
          "Apex Wheels",
          "Auto Advance Capital",
          "Auto Advance Credit",
          "Auto Advance Funding",
          "Auto Advance Loans",
          "Auto Avenue",
          "Auto Cash Capital",
          "Auto Cash Connect",
          "Auto Cash Credit",
          "Auto Cash Loans",
          "Auto Cash Solutions",
          "Auto Deal Capital",
          "Auto Dream Lending",
          "Auto Dream Solutions",
          "Auto Equity Connect",
          "Auto Equity Finance",
          "Auto Equity Hub",
          "Auto Equity Solutions",
          "Auto Pavement Lending",
          "Auto Quick Capital",
          "Auto Quick Connect",
          "Auto Quick Credit",
          "Auto Quick Finance",
          "Auto Quick Lending",
          "Auto Quick Loans",
          "Auto Ready Finance",
          "Auto Ready Funding",
          "Auto Ready Loans",
          "Auto Speed Finance",
          "Auto Trust Lending",
          "Auto Trust Loans",
          "Blue Ribbon Auto",
          "Blue Ribbon Auto Group",
          "Blue Ribbon Drive",
          "Blue Ribbon Drive Auto",
          "Blue Ribbon Drive Group",
          "Blue Ribbon Motors",
          "Blue Ribbon Motors Group",
          "Car Advance Capital",
          "Car Advance Credit",
          "Car Advance Funding",
          "Car Advance Hub",
          "Car Advance Mart",
          "Car Advance Solutions",
          "Car Cash Capital",
          "Car Cash Credit",
          "Car Cash Finance",
          "Car Cash Lending",
          "Car Cash Loans",
          "Car Deal Connect",
          "Car Deal Credit",
          "Car Deal Loans",
          "Car Deal Solutions",
          "Car Equity Finance",
          "Car Equity Funding",
          "Car Equity Lending",
          "Car Equity Solutions",
          "Car Pavement Capital",
          "Car Pavement Lending",
          "Car Pavement Loans",
          "Car Quick Credit",
          "Car Quick Hub",
          "Car Quick Loans",
          "Car Quick Solutions",
          "Car Ready Connect",
          "Car Ready Finance",
          "Car Ready Funding",
          "Car Ready Lending",
          "Car Ready Mart",
          "Car Speed Finance",
          "Car Speed Funding",
          "Car Speed Lending",
          "Car Speed Loans",
          "Car Speed Solutions",
          "Car Trust Connect",
          "Car Trust Funding",
          "Car Trust Hub",
          "Car Trust Lending",
          "Car Trust Mart",
          "Car Trust Solutions",
          "City Drive Auto",
          "City Drive Motors",
          "City Drive Motors Group",
          "Cityscape Auto",
          "Cityscape Motors",
          "Diamond Auto",
          "Diamond Auto Group",
          "Diamond Drive",
          "Diamond Drive Auto",
          "Diamond Drive Auto Group",
          "Diamond Drive Dealership",
          "Diamond Drive Group",
          "Dream Auto",
          "Dream Drive",
          "Dream Drive Auto",
          "Dream Drive Auto Group",
          "Dream Drive Dealership",
          "Dream Drive Group",
          "Dream Drive Motors",
          "Dream Wheels",
          "Drive Advance Credit",
          "Drive Advance Finance",
          "Drive Advance Funding",
          "Drive Advance Hub",
          "Drive Advance Lending",
          "Drive Advance Mart",
          "Drive Cash Connect",
          "Drive Cash Finance",
          "Drive Deal Capital",
          "Drive Deal Finance",
          "Drive Deal Funding",
          "Drive Deal Lending",
          "Drive Deal Mart",
          "Drive Dream Credit",
          "Drive Dream Finance",
          "Drive Dream Funding",
          "Drive Dream Hub",
          "Drive Dream Loans",
          "Drive Dream Mart",
          "Drive Dream Solutions",
          "Drive Equity Capital",
          "Drive Equity Connect",
          "Drive Equity Funding",
          "Drive Equity Lending",
          "Drive Equity Loans",
          "Drive Equity Solutions",
          "Drive Pavement Capital",
          "Drive Pavement Connect",
          "Drive Pavement Finance",
          "Drive Pavement Funding",
          "Drive Pavement Hub",
          "Drive Pavement Lending",
          "Drive Pavement Loans",
          "Drive Pavement Solutions",
          "Drive Quick Connect",
          "Drive Quick Credit",
          "Drive Quick Hub",
          "Drive Ready Connect",
          "Drive Ready Credit",
          "Drive Ready Funding",
          "Drive Ready Loans",
          "Drive Speed Capital",
          "Drive Speed Connect",
          "Drive Speed Finance",
          "Drive Speed Loans",
          "Drive Speed Solutions",
          "Drive Trust Capital",
          "Drive Trust Connect",
          "Drive Trust Loans",
          "Drive Trust Solutions",
          "Dynamic Auto",
          "Dynamic Drive Dealership",
          "Dynamic Motors",
          "Dynamic Motors Group",
          "Elite Drive",
          "Elite Drive Auto Group",
          "Elite Drive Group",
          "Elite Motors",
          "Elite Wheels",
          "Express Auto",
          "Express Auto Group",
          "Express Drive",
          "Express Drive Auto",
          "Express Drive Group",
          "FastTrack Advance Funding",
          "FastTrack Advance Loans",
          "FastTrack Advance Solutions",
          "FastTrack Cash Capital",
          "FastTrack Cash Funding",
          "FastTrack Cash Hub",
          "FastTrack Deal Connect",
          "FastTrack Dream Capital",
          "FastTrack Dream Connect",
          "FastTrack Dream Credit",
          "FastTrack Dream Finance",
          "FastTrack Dream Funding",
          "FastTrack Equity Connect",
          "FastTrack Equity Finance",
          "FastTrack Equity Lending",
          "FastTrack Equity Mart",
          "FastTrack Pavement Credit",
          "FastTrack Pavement Funding",
          "FastTrack Pavement Hub",
          "FastTrack Pavement Mart",
          "FastTrack Pavement Solutions",
          "FastTrack Quick Capital",
          "FastTrack Quick Connect",
          "FastTrack Quick Mart",
          "FastTrack Ready Capital",
          "FastTrack Ready Finance",
          "FastTrack Ready Loans",
          "FastTrack Speed Credit",
          "FastTrack Speed Finance",
          "FastTrack Speed Funding",
          "FastTrack Speed Lending",
          "FastTrack Trust Capital",
          "FastTrack Trust Connect",
          "FastTrack Trust Finance",
          "FastTrack Trust Funding",
          "FastTrack Trust Mart",
          "FastTrack Trust Solutions",
          "Freedom Auto",
          "Freedom Motors",
          "Freedom Motors Group",
          "Freedom Wheels",
          "Grand Auto",
          "Grand Drive",
          "Grand Drive Motors",
          "Grand Prix Auto",
          "Grand Prix Auto Group",
          "Grand Prix Drive",
          "Grand Prix Drive Auto",
          "Grand Prix Drive Group",
          "Grand Prix Motors",
          "High Gear Auto",
          "High Gear Automotive",
          "High Gear Drive",
          "High Gear Drive Auto",
          "High Gear Motors",
          "Infinity Auto",
          "Infinity Auto Group",
          "Infinity Drive",
          "Infinity Drive Auto",
          "Infinity Drive Auto Group",
          "Infinity Drive Dealership",
          "Infinity Drive Group",
          "Infinity Motors",
          "Legend Auto Group",
          "Legend Drive",
          "Legend Drive Auto",
          "Legend Motors",
          "Liberty Auto",
          "Liberty Auto Group",
          "Liberty Automotive",
          "Liberty Drive",
          "Liberty Drive Auto",
          "Liberty Drive Auto Group",
          "Liberty Drive Dealership",
          "Liberty Drive Group",
          "Liberty Motors",
          "Liberty Motors Group",
          "Liberty Wheels",
          "Marvel Auto",
          "Marvel Drive",
          "Marvel Motors",
          "Marvel Motors Group",
          "Motor Advance Connect",
          "Motor Advance Finance",
          "Motor Advance Loans",
          "Motor Advance Solutions",
          "Motor Cash Connect",
          "Motor Cash Credit",
          "Motor Cash Loans",
          "Motor Cash Mart",
          "Motor Deal Capital",
          "Motor Deal Credit",
          "Motor Deal Hub",
          "Motor Deal Lending",
          "Motor Dream Credit",
          "Motor Dream Finance",
          "Motor Dream Funding",
          "Motor Dream Lending",
          "Motor Dream Loans",
          "Motor Equity Hub",
          "Motor Equity Lending",
          "Motor Pavement Connect",
          "Motor Pavement Mart",
          "Motor Quick Credit",
          "Motor Quick Finance",
          "Motor Quick Lending",
          "Motor Quick Mart",
          "Motor Ready Connect",
          "Motor Ready Credit",
          "Motor Ready Funding",
          "Motor Ready Hub",
          "Motor Speed Capital",
          "Motor Speed Credit",
          "Motor Speed Hub",
          "Motor Speed Lending",
          "Motor Speed Mart",
          "Motor Trust Credit",
          "Motor Trust Finance",
          "Motor Trust Funding",
          "Platinum Auto",
          "Platinum Auto Group",
          "Platinum Drive",
          "Platinum Drive Auto",
          "Platinum Drive Group",
          "Powerhouse Auto",
          "Precision Auto",
          "Precision Auto Group",
          "Precision Drive",
          "Precision Drive Auto",
          "Precision Drive Auto Group",
          "Precision Drive Group",
          "Precision Motors",
          "Precision Wheels",
          "Prestige Auto",
          "Prestige Auto Group",
          "Prestige Drive",
          "Prestige Drive Auto",
          "Prestige Drive Group",
          "Prestige Wheels",
          "Prime Advance Capital",
          "Prime Advance Connect",
          "Prime Advance Credit",
          "Prime Advance Mart",
          "Prime Advance Solutions",
          "Prime Auto Group",
          "Prime Cash Credit",
          "Prime Cash Mart",
          "Prime Cash Solutions",
          "Prime Dream Capital",
          "Prime Drive",
          "Prime Drive Auto",
          "Prime Drive Dealership",
          "Prime Equity Connect",
          "Prime Equity Mart",
          "Prime Motors",
          "Prime Pavement Capital",
          "Prime Pavement Connect",
          "Prime Pavement Lending",
          "Prime Pavement Mart",
          "Prime Quick Capital",
          "Prime Quick Hub",
          "Prime Quick Lending",
          "Prime Quick Mart",
          "Prime Ready Connect",
          "Prime Ready Funding",
          "Prime Ready Hub",
          "Prime Ready Loans",
          "Prime Speed Credit",
          "Prime Speed Hub",
          "Prime Speed Lending",
          "Prime Speed Solutions",
          "Prime Trust Lending",
          "Prime Trust Loans",
          "Prime Trust Mart",
          "Prime Wheels",
          "ProDrive",
          "ProDrive Auto",
          "ProDrive Auto Group",
          "ProDrive Motors",
          "ProDrive Wheels",
          "Redline Auto",
          "Redline Auto Group",
          "Redline Drive",
          "Redline Motors",
          "Road Advance Connect",
          "Road Advance Credit",
          "Road Advance Finance",
          "Road Advance Loans",
          "Road Advance Mart",
          "Road Cash Finance",
          "Road Cash Hub",
          "Road Cash Mart",
          "Road Cash Solutions",
          "Road Deal Credit",
          "Road Deal Finance",
          "Road Deal Hub",
          "Road Dream Capital",
          "Road Dream Connect",
          "Road Dream Credit",
          "Road Dream Finance",
          "Road Dream Funding",
          "Road Dream Hub",
          "Road Equity Hub",
          "Road Equity Mart",
          "Road Pavement Hub",
          "Road Quick Capital",
          "Road Quick Credit",
          "Road Quick Funding",
          "Road Ready Hub",
          "Road Ready Loans",
          "Road Ready Mart",
          "Road Speed Credit",
          "Road Speed Funding",
          "Road Speed Loans",
          "Road Speed Mart",
          "Road Speed Solutions",
          "Road Trust Credit",
          "Road Trust Hub",
          "Roadmaster Auto",
          "Roadmaster Drive",
          "Roadmaster Drive Auto",
          "Roadmaster Drive Group",
          "Roadmaster Motors",
          "Roadrunner Auto",
          "Roadrunner Cars",
          "Roadrunner Drive",
          "Roadrunner Drive Auto",
          "Roadrunner Drive Group",
          "Roadrunner Motors",
          "Royal Auto Group",
          "Royal Drive",
          "Royal Drive Auto",
          "Royal Drive Dealership",
          "Royal Motors",
          "Royal Ride Dealership",
          "Skyline Auto",
          "Skyline Drive",
          "Skyline Drive Auto",
          "Skyline Drive Group",
          "Skyline Motors",
          "Speed Advance Connect",
          "Speed Advance Loans",
          "Speed Cash Mart",
          "Speed Deal Credit",
          "Speed Deal Finance",
          "Speed Deal Hub",
          "Speed Dream Finance",
          "Speed Dream Lending",
          "Speed Dream Loans",
          "Speed Equity Connect",
          "Speed Equity Credit",
          "Speed Equity Finance",
          "Speed Equity Hub",
          "Speed Pavement Finance",
          "Speed Pavement Hub",
          "Speed Pavement Mart",
          "Speed Quick Connect",
          "Speed Quick Finance",
          "Speed Quick Hub",
          "Speed Quick Loans",
          "Speed Ready Capital",
          "Speed Ready Connect",
          "Speed Ready Finance",
          "Speed Ready Hub",
          "Speed Speed Hub",
          "Speed Trust Capital",
          "Speed Trust Connect",
          "Speed Trust Credit",
          "Speed Trust Finance",
          "Speed Trust Funding",
          "Speed Trust Loans",
          "Speedy Auto",
          "Speedy Auto Group",
          "Speedy Drive",
          "Speedy Drive Auto",
          "Speedy Drive Group",
          "Speedy Motors",
          "Speedy Wheels",
          "Star Auto",
          "Star Auto Group",
          "Star Drive",
          "Star Motors",
          "Star Motors Group",
          "Starlight Auto",
          "Starlight Drive",
          "Starlight Drive Auto",
          "Starlight Drive Group",
          "Starlight Motors",
          "Supreme Auto Group",
          "Supreme Drive",
          "Supreme Drive Auto",
          "Supreme Drive Group",
          "Swift Auto",
          "Swift Auto Group",
          "Swift Drive",
          "Swift Drive Auto",
          "Swift Drive Group",
          "Swift Motors",
          "Swift Motors Group",
          "Swift Wheels",
          "Top Gear Auto",
          "Top Gear Cars",
          "Top Gear Drive",
          "Top Gear Drive Auto",
          "Top Gear Drive Group",
          "Top Gear Motors",
          "Turbo Drive",
          "Turbo Drive Dealership",
          "Turbo Drive Group",
          "Turbo Drive Motors",
          "Turbo Motors",
          "Turbo Wheels",
          "Turbocharged Auto",
          "Turbocharged Auto Group",
          "Turbocharged Cars",
          "Turbocharged Drive",
          "Turbocharged Motors",
          "Ultimate Auto",
          "Ultimate Auto Group",
          "Ultimate Drive",
          "Velocity Advance Connect",
          "Velocity Advance Credit",
          "Velocity Auto",
          "Velocity Auto Group",
          "Velocity Cash Capital",
          "Velocity Cash Connect",
          "Velocity Cash Credit",
          "Velocity Cash Loans",
          "Velocity Deal Credit",
          "Velocity Deal Lending",
          "Velocity Dream Credit",
          "Velocity Dream Mart",
          "Velocity Drive",
          "Velocity Drive Auto",
          "Velocity Drive Group",
          "Velocity Equity Capital",
          "Velocity Equity Connect",
          "Velocity Equity Finance",
          "Velocity Equity Hub",
          "Velocity Equity Mart",
          "Velocity Motors",
          "Velocity Pavement Connect",
          "Velocity Pavement Credit",
          "Velocity Pavement Funding",
          "Velocity Pavement Hub",
          "Velocity Pavement Lending",
          "Velocity Pavement Loans",
          "Velocity Pavement Mart",
          "Velocity Quick Mart",
          "Velocity Quick Solutions",
          "Velocity Ready Credit",
          "Velocity Speed Finance",
          "Velocity Speed Funding",
          "Velocity Speed Hub",
          "Velocity Speed Lending",
          "Velocity Trust Credit",
          "Velocity Trust Finance",
          "Velocity Trust Loans",
          "Velocity Trust Mart",
          "Victory Auto Group",
          "Victory Automotive",
          "Victory Drive",
          "Victory Drive Dealership",
          "Victory Drive Group",
          "Victory Drive Motors",
          "Victory Motors",
          "Wheel Advance Credit",
          "Wheel Advance Finance",
          "Wheel Advance Hub",
          "Wheel Advance Mart",
          "Wheel Cash Capital",
          "Wheel Cash Funding",
          "Wheel Cash Lending",
          "Wheel Cash Solutions",
          "Wheel Deal Connect",
          "Wheel Deal Finance",
          "Wheel Deal Funding",
          "Wheel Deal Loans",
          "Wheel Deal Solutions",
          "Wheel Dream Capital",
          "Wheel Dream Connect",
          "Wheel Dream Credit",
          "Wheel Dream Funding",
          "Wheel Dream Lending",
          "Wheel Equity Capital",
          "Wheel Equity Finance",
          "Wheel Equity Funding",
          "Wheel Equity Loans",
          "Wheel Pavement Connect",
          "Wheel Pavement Finance",
          "Wheel Pavement Funding",
          "Wheel Pavement Hub",
          "Wheel Pavement Loans",
          "Wheel Pavement Mart",
          "Wheel Pavement Solutions",
          "Wheel Quick Capital",
          "Wheel Quick Connect",
          "Wheel Quick Funding",
          "Wheel Quick Hub",
          "Wheel Quick Lending",
          "Wheel Ready Capital",
          "Wheel Ready Funding",
          "Wheel Ready Hub",
          "Wheel Ready Lending",
          "Wheel Speed Capital",
          "Wheel Speed Finance",
          "Wheel Speed Lending",
          "Wheel Trust Capital",
          "Wheel Trust Credit",
          "Wheel Trust Hub",
          "Wheel Trust Lending",
          "Wheel Trust Loans",
          "Wheel Trust Mart",
          "amit C i",
          "amit C n",
          "amit a F",
          "amit a i",
          "amit h i",
          "amit h n",
          "amit s F",
          "atish C c",
          "atish C n",
          "atish a c",
          "atish a n",
          "atish h F",
          "atish h c",
          "atish h n",
          "atish s i",
          "imran C a",
          "imran C c",
          "imran C n",
          "imran a F",
          "imran a a",
          "imran a c",
          "imran a e",
          "imran a n",
          "imran h c",
          "imran h i",
          "imran h n",
          "imran s a",
          "imran s c",
          "imran s n",
          "kamla C F",
          "kamla C a",
          "kamla C i",
          "kamla a a",
          "kamla h n",
          "kamla s a",
          "kamla s e",
          "kamla s i",
          "kamla s n",
          "omkar C e",
          "omkar C i",
          "omkar a i",
          "omkar h n",
          "omkar s a",
          "omkar s n",
          "panda C i",
          "panda C n",
          "panda a c",
          "panda a e",
          "panda a n",
          "panda h c",
          "panda h e",
          "panda h i",
          "panda h n",
          "panda s a",
          "panda s c",
          "panda s i",
          "rakesh C a",
          "rakesh C c",
          "rakesh C i",
          "rakesh C n",
          "rakesh a i",
          "rakesh h F",
          "rakesh h a",
          "rakesh h c",
          "rakesh h i",
          "rakesh h n",
          "rakesh s c",
          "rakesh s n",
          "salman C F",
          "salman C e",
          "salman C i",
          "salman C n",
          "salman a c",
          "salman a n",
          "salman h F",
          "salman h a",
          "salman h n",
          "salman s F",
          "salman s i",
          "salman s n",
          "saurabh C c",
          "saurabh C i",
          "saurabh C n",
          "saurabh a a",
          "saurabh a i",
          "saurabh a n",
          "saurabh h F",
          "saurabh h c",
          "saurabh s F",
          "saurabh s n",
          "shahrukh C F",
          "shahrukh C e",
          "shahrukh a a",
          "shahrukh a c",
          "shahrukh a n",
          "shahrukh h F",
          "shahrukh h c",
          "shahrukh h i",
          "shahrukh h n",
          "shahrukh s i"
         ],
         "xaxis": "x",
         "y": {
          "bdata": "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",
          "dtype": "i4"
         },
         "yaxis": "y"
        }
       ],
       "layout": {
        "barmode": "relative",
        "legend": {
         "tracegroupgap": 0
        },
        "template": {
         "data": {
          "bar": [
           {
            "error_x": {
             "color": "#2a3f5f"
            },
            "error_y": {
             "color": "#2a3f5f"
            },
            "marker": {
             "line": {
              "color": "#E5ECF6",
              "width": 0.5
             },
             "pattern": {
              "fillmode": "overlay",
              "size": 10,
              "solidity": 0.2
             }
            },
            "type": "bar"
           }
          ],
          "barpolar": [
           {
            "marker": {
             "line": {
              "color": "#E5ECF6",
              "width": 0.5
             },
             "pattern": {
              "fillmode": "overlay",
              "size": 10,
              "solidity": 0.2
             }
            },
            "type": "barpolar"
           }
          ],
          "carpet": [
           {
            "aaxis": {
             "endlinecolor": "#2a3f5f",
             "gridcolor": "white",
             "linecolor": "white",
             "minorgridcolor": "white",
             "startlinecolor": "#2a3f5f"
            },
            "baxis": {
             "endlinecolor": "#2a3f5f",
             "gridcolor": "white",
             "linecolor": "white",
             "minorgridcolor": "white",
             "startlinecolor": "#2a3f5f"
            },
            "type": "carpet"
           }
          ],
          "choropleth": [
           {
            "colorbar": {
             "outlinewidth": 0,
             "ticks": ""
            },
            "type": "choropleth"
           }
          ],
          "contour": [
           {
            "colorbar": {
             "outlinewidth": 0,
             "ticks": ""
            },
            "colorscale": [
             [
              0,
              "#0d0887"
             ],
             [
              0.1111111111111111,
              "#46039f"
             ],
             [
              0.2222222222222222,
              "#7201a8"
             ],
             [
              0.3333333333333333,
              "#9c179e"
             ],
             [
              0.4444444444444444,
              "#bd3786"
             ],
             [
              0.5555555555555556,
              "#d8576b"
             ],
             [
              0.6666666666666666,
              "#ed7953"
             ],
             [
              0.7777777777777778,
              "#fb9f3a"
             ],
             [
              0.8888888888888888,
              "#fdca26"
             ],
             [
              1,
              "#f0f921"
             ]
            ],
            "type": "contour"
           }
          ],
          "contourcarpet": [
           {
            "colorbar": {
             "outlinewidth": 0,
             "ticks": ""
            },
            "type": "contourcarpet"
           }
          ],
          "heatmap": [
           {
            "colorbar": {
             "outlinewidth": 0,
             "ticks": ""
            },
            "colorscale": [
             [
              0,
              "#0d0887"
             ],
             [
              0.1111111111111111,
              "#46039f"
             ],
             [
              0.2222222222222222,
              "#7201a8"
             ],
             [
              0.3333333333333333,
              "#9c179e"
             ],
             [
              0.4444444444444444,
              "#bd3786"
             ],
             [
              0.5555555555555556,
              "#d8576b"
             ],
             [
              0.6666666666666666,
              "#ed7953"
             ],
             [
              0.7777777777777778,
              "#fb9f3a"
             ],
             [
              0.8888888888888888,
              "#fdca26"
             ],
             [
              1,
              "#f0f921"
             ]
            ],
            "type": "heatmap"
           }
          ],
          "histogram": [
           {
            "marker": {
             "pattern": {
              "fillmode": "overlay",
              "size": 10,
              "solidity": 0.2
             }
            },
            "type": "histogram"
           }
          ],
          "histogram2d": [
           {
            "colorbar": {
             "outlinewidth": 0,
             "ticks": ""
            },
            "colorscale": [
             [
              0,
              "#0d0887"
             ],
             [
              0.1111111111111111,
              "#46039f"
             ],
             [
              0.2222222222222222,
              "#7201a8"
             ],
             [
              0.3333333333333333,
              "#9c179e"
             ],
             [
              0.4444444444444444,
              "#bd3786"
             ],
             [
              0.5555555555555556,
              "#d8576b"
             ],
             [
              0.6666666666666666,
              "#ed7953"
             ],
             [
              0.7777777777777778,
              "#fb9f3a"
             ],
             [
              0.8888888888888888,
              "#fdca26"
             ],
             [
              1,
              "#f0f921"
             ]
            ],
            "type": "histogram2d"
           }
          ],
          "histogram2dcontour": [
           {
            "colorbar": {
             "outlinewidth": 0,
             "ticks": ""
            },
            "colorscale": [
             [
              0,
              "#0d0887"
             ],
             [
              0.1111111111111111,
              "#46039f"
             ],
             [
              0.2222222222222222,
              "#7201a8"
             ],
             [
              0.3333333333333333,
              "#9c179e"
             ],
             [
              0.4444444444444444,
              "#bd3786"
             ],
             [
              0.5555555555555556,
              "#d8576b"
             ],
             [
              0.6666666666666666,
              "#ed7953"
             ],
             [
              0.7777777777777778,
              "#fb9f3a"
             ],
             [
              0.8888888888888888,
              "#fdca26"
             ],
             [
              1,
              "#f0f921"
             ]
            ],
            "type": "histogram2dcontour"
           }
          ],
          "mesh3d": [
           {
            "colorbar": {
             "outlinewidth": 0,
             "ticks": ""
            },
            "type": "mesh3d"
           }
          ],
          "parcoords": [
           {
            "line": {
             "colorbar": {
              "outlinewidth": 0,
              "ticks": ""
             }
            },
            "type": "parcoords"
           }
          ],
          "pie": [
           {
            "automargin": true,
            "type": "pie"
           }
          ],
          "scatter": [
           {
            "fillpattern": {
             "fillmode": "overlay",
             "size": 10,
             "solidity": 0.2
            },
            "type": "scatter"
           }
          ],
          "scatter3d": [
           {
            "line": {
             "colorbar": {
              "outlinewidth": 0,
              "ticks": ""
             }
            },
            "marker": {
             "colorbar": {
              "outlinewidth": 0,
              "ticks": ""
             }
            },
            "type": "scatter3d"
           }
          ],
          "scattercarpet": [
           {
            "marker": {
             "colorbar": {
              "outlinewidth": 0,
              "ticks": ""
             }
            },
            "type": "scattercarpet"
           }
          ],
          "scattergeo": [
           {
            "marker": {
             "colorbar": {
              "outlinewidth": 0,
              "ticks": ""
             }
            },
            "type": "scattergeo"
           }
          ],
          "scattergl": [
           {
            "marker": {
             "colorbar": {
              "outlinewidth": 0,
              "ticks": ""
             }
            },
            "type": "scattergl"
           }
          ],
          "scattermap": [
           {
            "marker": {
             "colorbar": {
              "outlinewidth": 0,
              "ticks": ""
             }
            },
            "type": "scattermap"
           }
          ],
          "scattermapbox": [
           {
            "marker": {
             "colorbar": {
              "outlinewidth": 0,
              "ticks": ""
             }
            },
            "type": "scattermapbox"
           }
          ],
          "scatterpolar": [
           {
            "marker": {
             "colorbar": {
              "outlinewidth": 0,
              "ticks": ""
             }
            },
            "type": "scatterpolar"
           }
          ],
          "scatterpolargl": [
           {
            "marker": {
             "colorbar": {
              "outlinewidth": 0,
              "ticks": ""
             }
            },
            "type": "scatterpolargl"
           }
          ],
          "scatterternary": [
           {
            "marker": {
             "colorbar": {
              "outlinewidth": 0,
              "ticks": ""
             }
            },
            "type": "scatterternary"
           }
          ],
          "surface": [
           {
            "colorbar": {
             "outlinewidth": 0,
             "ticks": ""
            },
            "colorscale": [
             [
              0,
              "#0d0887"
             ],
             [
              0.1111111111111111,
              "#46039f"
             ],
             [
              0.2222222222222222,
              "#7201a8"
             ],
             [
              0.3333333333333333,
              "#9c179e"
             ],
             [
              0.4444444444444444,
              "#bd3786"
             ],
             [
              0.5555555555555556,
              "#d8576b"
             ],
             [
              0.6666666666666666,
              "#ed7953"
             ],
             [
              0.7777777777777778,
              "#fb9f3a"
             ],
             [
              0.8888888888888888,
              "#fdca26"
             ],
             [
              1,
              "#f0f921"
             ]
            ],
            "type": "surface"
           }
          ],
          "table": [
           {
            "cells": {
             "fill": {
              "color": "#EBF0F8"
             },
             "line": {
              "color": "white"
             }
            },
            "header": {
             "fill": {
              "color": "#C8D4E3"
             },
             "line": {
              "color": "white"
             }
            },
            "type": "table"
           }
          ]
         },
         "layout": {
          "annotationdefaults": {
           "arrowcolor": "#2a3f5f",
           "arrowhead": 0,
           "arrowwidth": 1
          },
          "autotypenumbers": "strict",
          "coloraxis": {
           "colorbar": {
            "outlinewidth": 0,
            "ticks": ""
           }
          },
          "colorscale": {
           "diverging": [
            [
             0,
             "#8e0152"
            ],
            [
             0.1,
             "#c51b7d"
            ],
            [
             0.2,
             "#de77ae"
            ],
            [
             0.3,
             "#f1b6da"
            ],
            [
             0.4,
             "#fde0ef"
            ],
            [
             0.5,
             "#f7f7f7"
            ],
            [
             0.6,
             "#e6f5d0"
            ],
            [
             0.7,
             "#b8e186"
            ],
            [
             0.8,
             "#7fbc41"
            ],
            [
             0.9,
             "#4d9221"
            ],
            [
             1,
             "#276419"
            ]
           ],
           "sequential": [
            [
             0,
             "#0d0887"
            ],
            [
             0.1111111111111111,
             "#46039f"
            ],
            [
             0.2222222222222222,
             "#7201a8"
            ],
            [
             0.3333333333333333,
             "#9c179e"
            ],
            [
             0.4444444444444444,
             "#bd3786"
            ],
            [
             0.5555555555555556,
             "#d8576b"
            ],
            [
             0.6666666666666666,
             "#ed7953"
            ],
            [
             0.7777777777777778,
             "#fb9f3a"
            ],
            [
             0.8888888888888888,
             "#fdca26"
            ],
            [
             1,
             "#f0f921"
            ]
           ],
           "sequentialminus": [
            [
             0,
             "#0d0887"
            ],
            [
             0.1111111111111111,
             "#46039f"
            ],
            [
             0.2222222222222222,
             "#7201a8"
            ],
            [
             0.3333333333333333,
             "#9c179e"
            ],
            [
             0.4444444444444444,
             "#bd3786"
            ],
            [
             0.5555555555555556,
             "#d8576b"
            ],
            [
             0.6666666666666666,
             "#ed7953"
            ],
            [
             0.7777777777777778,
             "#fb9f3a"
            ],
            [
             0.8888888888888888,
             "#fdca26"
            ],
            [
             1,
             "#f0f921"
            ]
           ]
          },
          "colorway": [
           "#636efa",
           "#EF553B",
           "#00cc96",
           "#ab63fa",
           "#FFA15A",
           "#19d3f3",
           "#FF6692",
           "#B6E880",
           "#FF97FF",
           "#FECB52"
          ],
          "font": {
           "color": "#2a3f5f"
          },
          "geo": {
           "bgcolor": "white",
           "lakecolor": "white",
           "landcolor": "#E5ECF6",
           "showlakes": true,
           "showland": true,
           "subunitcolor": "white"
          },
          "hoverlabel": {
           "align": "left"
          },
          "hovermode": "closest",
          "mapbox": {
           "style": "light"
          },
          "paper_bgcolor": "white",
          "plot_bgcolor": "#E5ECF6",
          "polar": {
           "angularaxis": {
            "gridcolor": "white",
            "linecolor": "white",
            "ticks": ""
           },
           "bgcolor": "#E5ECF6",
           "radialaxis": {
            "gridcolor": "white",
            "linecolor": "white",
            "ticks": ""
           }
          },
          "scene": {
           "xaxis": {
            "backgroundcolor": "#E5ECF6",
            "gridcolor": "white",
            "gridwidth": 2,
            "linecolor": "white",
            "showbackground": true,
            "ticks": "",
            "zerolinecolor": "white"
           },
           "yaxis": {
            "backgroundcolor": "#E5ECF6",
            "gridcolor": "white",
            "gridwidth": 2,
            "linecolor": "white",
            "showbackground": true,
            "ticks": "",
            "zerolinecolor": "white"
           },
           "zaxis": {
            "backgroundcolor": "#E5ECF6",
            "gridcolor": "white",
            "gridwidth": 2,
            "linecolor": "white",
            "showbackground": true,
            "ticks": "",
            "zerolinecolor": "white"
           }
          },
          "shapedefaults": {
           "line": {
            "color": "#2a3f5f"
           }
          },
          "ternary": {
           "aaxis": {
            "gridcolor": "white",
            "linecolor": "white",
            "ticks": ""
           },
           "baxis": {
            "gridcolor": "white",
            "linecolor": "white",
            "ticks": ""
           },
           "bgcolor": "#E5ECF6",
           "caxis": {
            "gridcolor": "white",
            "linecolor": "white",
            "ticks": ""
           }
          },
          "title": {
           "x": 0.05
          },
          "xaxis": {
           "automargin": true,
           "gridcolor": "white",
           "linecolor": "white",
           "ticks": "",
           "title": {
            "standoff": 15
           },
           "zerolinecolor": "white",
           "zerolinewidth": 2
          },
          "yaxis": {
           "automargin": true,
           "gridcolor": "white",
           "linecolor": "white",
           "ticks": "",
           "title": {
            "standoff": 15
           },
           "zerolinecolor": "white",
           "zerolinewidth": 2
          }
         }
        },
        "title": {
         "text": "Total Disbursement Amount by Dealer"
        },
        "xaxis": {
         "anchor": "y",
         "domain": [
          0,
          1
         ],
         "title": {
          "text": "Dealer"
         }
        },
        "yaxis": {
         "anchor": "x",
         "domain": [
          0,
          1
         ],
         "title": {
          "text": "Total Disbursement Amount"
         }
        }
       }
      }
     },
     "metadata": {},
     "output_type": "display_data"
    },
    {
     "data": {
      "text/plain": [
       "<Figure size 1000x1000 with 0 Axes>"
      ]
     },
     "metadata": {},
     "output_type": "display_data"
    }
   ],
   "source": [
    "# Group by dealer and calculate the total disbursement amount\n",
    "dealer_disbursement = df.groupby('dealer')['disb_amount'].sum().reset_index()\n",
    "\n",
    "# Create a bar chart using matplotlib\n",
    "plt.figure(figsize=(10, 6))\n",
    "plt.bar(dealer_disbursement['dealer'], dealer_disbursement['disb_amount'], color='skyblue')\n",
    "plt.title('Total Disbursement Amount by Dealer')\n",
    "plt.xlabel('Dealer')\n",
    "plt.ylabel('Total Disbursement Amount')\n",
    "plt.xticks(rotation=45)\n",
    "plt.tight_layout()\n",
    "plt.show()\n",
    "\n",
    "# Create a bar chart using Plotly Express\n",
    "plt.figure(figsize=(10, 10))\n",
    "fig = px.bar(dealer_disbursement, x='dealer', y='disb_amount', title='Total Disbursement Amount by Dealer')\n",
    "fig.update_layout(xaxis_title='Dealer', yaxis_title='Total Disbursement Amount')\n",
    "fig.show()"
   ]
  },
  {
   "cell_type": "code",
   "execution_count": 30,
   "id": "a0e06cbf",
   "metadata": {},
   "outputs": [
    {
     "name": "stdout",
     "output_type": "stream",
     "text": [
      "The End\n"
     ]
    }
   ],
   "source": [
    "print(\"The End\")"
   ]
  }
 ],
 "metadata": {
  "kernelspec": {
   "display_name": "Python 3",
   "language": "python",
   "name": "python3"
  },
  "language_info": {
   "codemirror_mode": {
    "name": "ipython",
    "version": 3
   },
   "file_extension": ".py",
   "mimetype": "text/x-python",
   "name": "python",
   "nbconvert_exporter": "python",
   "pygments_lexer": "ipython3",
   "version": "3.10.0"
  }
 },
 "nbformat": 4,
 "nbformat_minor": 5
}
